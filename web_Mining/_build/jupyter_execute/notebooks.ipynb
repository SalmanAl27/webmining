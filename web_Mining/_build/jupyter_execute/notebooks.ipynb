{
 "cells": [
  {
   "cell_type": "markdown",
   "metadata": {
    "id": "2aMADA0n5IZn"
   },
   "source": [
    "# **Data crawling**\n",
    "Data crawling adalah proses pengambilan data yang tersedia secara online untuk umum. Proses ini kemudian mengimpor informasi atau data yang telah ditemukan ke dalam file lokal di komputer Anda."
   ]
  },
  {
   "cell_type": "code",
   "execution_count": 1,
   "metadata": {
    "colab": {
     "base_uri": "https://localhost:8080/"
    },
    "executionInfo": {
     "elapsed": 49602,
     "status": "ok",
     "timestamp": 1669750592202,
     "user": {
      "displayName": "19-132 Muhammad Salman Al Farisi",
      "userId": "16576458071114986096"
     },
     "user_tz": -420
    },
    "id": "OQQwhqOE40Vp",
    "outputId": "ffb5c95a-0b4c-4dda-ccda-5c22a394e223"
   },
   "outputs": [
    {
     "ename": "KeyboardInterrupt",
     "evalue": "",
     "output_type": "error",
     "traceback": [
      "\u001b[0;31m\u001b[0m",
      "\u001b[0;31mKeyboardInterrupt\u001b[0mTraceback (most recent call last)",
      "\u001b[0;32m<ipython-input-1-d5df0069828e>\u001b[0m in \u001b[0;36m<module>\u001b[0;34m\u001b[0m\n\u001b[1;32m      1\u001b[0m \u001b[0;32mfrom\u001b[0m \u001b[0mgoogle\u001b[0m\u001b[0;34m.\u001b[0m\u001b[0mcolab\u001b[0m \u001b[0;32mimport\u001b[0m \u001b[0mdrive\u001b[0m\u001b[0;34m\u001b[0m\u001b[0;34m\u001b[0m\u001b[0m\n\u001b[0;32m----> 2\u001b[0;31m \u001b[0mdrive\u001b[0m\u001b[0;34m.\u001b[0m\u001b[0mmount\u001b[0m\u001b[0;34m(\u001b[0m\u001b[0;34m'/content/drive'\u001b[0m\u001b[0;34m)\u001b[0m\u001b[0;34m\u001b[0m\u001b[0;34m\u001b[0m\u001b[0m\n\u001b[0m",
      "\u001b[0;32m/usr/local/lib/python3.7/dist-packages/google/colab/drive.py\u001b[0m in \u001b[0;36mmount\u001b[0;34m(mountpoint, force_remount, timeout_ms, readonly)\u001b[0m\n\u001b[1;32m    104\u001b[0m       \u001b[0mtimeout_ms\u001b[0m\u001b[0;34m=\u001b[0m\u001b[0mtimeout_ms\u001b[0m\u001b[0;34m,\u001b[0m\u001b[0;34m\u001b[0m\u001b[0;34m\u001b[0m\u001b[0m\n\u001b[1;32m    105\u001b[0m       \u001b[0mephemeral\u001b[0m\u001b[0;34m=\u001b[0m\u001b[0;32mTrue\u001b[0m\u001b[0;34m,\u001b[0m\u001b[0;34m\u001b[0m\u001b[0;34m\u001b[0m\u001b[0m\n\u001b[0;32m--> 106\u001b[0;31m       readonly=readonly)\n\u001b[0m\u001b[1;32m    107\u001b[0m \u001b[0;34m\u001b[0m\u001b[0m\n\u001b[1;32m    108\u001b[0m \u001b[0;34m\u001b[0m\u001b[0m\n",
      "\u001b[0;32m/usr/local/lib/python3.7/dist-packages/google/colab/drive.py\u001b[0m in \u001b[0;36m_mount\u001b[0;34m(mountpoint, force_remount, timeout_ms, ephemeral, readonly)\u001b[0m\n\u001b[1;32m    123\u001b[0m   \u001b[0;32mif\u001b[0m \u001b[0mephemeral\u001b[0m\u001b[0;34m:\u001b[0m\u001b[0;34m\u001b[0m\u001b[0;34m\u001b[0m\u001b[0m\n\u001b[1;32m    124\u001b[0m     _message.blocking_request(\n\u001b[0;32m--> 125\u001b[0;31m         'request_auth', request={'authType': 'dfs_ephemeral'}, timeout_sec=None)\n\u001b[0m\u001b[1;32m    126\u001b[0m \u001b[0;34m\u001b[0m\u001b[0m\n\u001b[1;32m    127\u001b[0m   \u001b[0mmountpoint\u001b[0m \u001b[0;34m=\u001b[0m \u001b[0m_os\u001b[0m\u001b[0;34m.\u001b[0m\u001b[0mpath\u001b[0m\u001b[0;34m.\u001b[0m\u001b[0mexpanduser\u001b[0m\u001b[0;34m(\u001b[0m\u001b[0mmountpoint\u001b[0m\u001b[0;34m)\u001b[0m\u001b[0;34m\u001b[0m\u001b[0;34m\u001b[0m\u001b[0m\n",
      "\u001b[0;32m/usr/local/lib/python3.7/dist-packages/google/colab/_message.py\u001b[0m in \u001b[0;36mblocking_request\u001b[0;34m(request_type, request, timeout_sec, parent)\u001b[0m\n\u001b[1;32m    169\u001b[0m   request_id = send_request(\n\u001b[1;32m    170\u001b[0m       request_type, request, parent=parent, expect_reply=True)\n\u001b[0;32m--> 171\u001b[0;31m   \u001b[0;32mreturn\u001b[0m \u001b[0mread_reply_from_input\u001b[0m\u001b[0;34m(\u001b[0m\u001b[0mrequest_id\u001b[0m\u001b[0;34m,\u001b[0m \u001b[0mtimeout_sec\u001b[0m\u001b[0;34m)\u001b[0m\u001b[0;34m\u001b[0m\u001b[0;34m\u001b[0m\u001b[0m\n\u001b[0m",
      "\u001b[0;32m/usr/local/lib/python3.7/dist-packages/google/colab/_message.py\u001b[0m in \u001b[0;36mread_reply_from_input\u001b[0;34m(message_id, timeout_sec)\u001b[0m\n\u001b[1;32m     95\u001b[0m     \u001b[0mreply\u001b[0m \u001b[0;34m=\u001b[0m \u001b[0m_read_next_input_message\u001b[0m\u001b[0;34m(\u001b[0m\u001b[0;34m)\u001b[0m\u001b[0;34m\u001b[0m\u001b[0;34m\u001b[0m\u001b[0m\n\u001b[1;32m     96\u001b[0m     \u001b[0;32mif\u001b[0m \u001b[0mreply\u001b[0m \u001b[0;34m==\u001b[0m \u001b[0m_NOT_READY\u001b[0m \u001b[0;32mor\u001b[0m \u001b[0;32mnot\u001b[0m \u001b[0misinstance\u001b[0m\u001b[0;34m(\u001b[0m\u001b[0mreply\u001b[0m\u001b[0;34m,\u001b[0m \u001b[0mdict\u001b[0m\u001b[0;34m)\u001b[0m\u001b[0;34m:\u001b[0m\u001b[0;34m\u001b[0m\u001b[0;34m\u001b[0m\u001b[0m\n\u001b[0;32m---> 97\u001b[0;31m       \u001b[0mtime\u001b[0m\u001b[0;34m.\u001b[0m\u001b[0msleep\u001b[0m\u001b[0;34m(\u001b[0m\u001b[0;36m0.025\u001b[0m\u001b[0;34m)\u001b[0m\u001b[0;34m\u001b[0m\u001b[0;34m\u001b[0m\u001b[0m\n\u001b[0m\u001b[1;32m     98\u001b[0m       \u001b[0;32mcontinue\u001b[0m\u001b[0;34m\u001b[0m\u001b[0;34m\u001b[0m\u001b[0m\n\u001b[1;32m     99\u001b[0m     if (reply.get('type') == 'colab_reply' and\n",
      "\u001b[0;31mKeyboardInterrupt\u001b[0m: "
     ]
    }
   ],
   "source": [
    "from google.colab import drive\n",
    "drive.mount('/content/drive')"
   ]
  },
  {
   "cell_type": "code",
   "execution_count": 2,
   "metadata": {
    "colab": {
     "base_uri": "https://localhost:8080/"
    },
    "executionInfo": {
     "elapsed": 8,
     "status": "ok",
     "timestamp": 1669750696007,
     "user": {
      "displayName": "19-132 Muhammad Salman Al Farisi",
      "userId": "16576458071114986096"
     },
     "user_tz": -420
    },
    "id": "He5Q5IEn5H6G",
    "outputId": "6cec5aa5-70ff-4b7b-a62c-a6ff0b671182"
   },
   "outputs": [
    {
     "name": "stdout",
     "output_type": "stream",
     "text": [
      "/content/drive/MyDrive/web_mining/web_Mining\n"
     ]
    }
   ],
   "source": [
    "%cd /content/drive/MyDrive/web_mining/web_Mining"
   ]
  },
  {
   "cell_type": "markdown",
   "metadata": {
    "id": "8Arvdwih5eRz"
   },
   "source": [
    "## Twint\n",
    "\n",
    "Twint adalah sebuah tools yang digunakan untuk melakukan scrapping dari aplikasi twitter yang disetting secara khusus menggunakan bahasa pemrograman Python. Twint dapat kita gunakan dan jalankan tanpa harus menggunakan API dari Twitter itu sendiri, dengan kapasitas scrapping data maksimalnya adalah 3200 tweet."
   ]
  },
  {
   "cell_type": "code",
   "execution_count": 3,
   "metadata": {
    "colab": {
     "base_uri": "https://localhost:8080/"
    },
    "executionInfo": {
     "elapsed": 14955,
     "status": "ok",
     "timestamp": 1669750794376,
     "user": {
      "displayName": "19-132 Muhammad Salman Al Farisi",
      "userId": "16576458071114986096"
     },
     "user_tz": -420
    },
    "id": "PB-jWlfF5mHt",
    "outputId": "93963c83-16de-4911-a711-6a4580e85da4"
   },
   "outputs": [
    {
     "name": "stdout",
     "output_type": "stream",
     "text": [
      "Cloning into 'twint'...\n",
      "remote: Enumerating objects: 47, done.\u001b[K\n",
      "remote: Counting objects: 100% (47/47), done.\u001b[K\n",
      "remote: Compressing objects: 100% (44/44), done.\u001b[K\n",
      "remote: Total 47 (delta 3), reused 14 (delta 0), pack-reused 0\u001b[K\n",
      "Unpacking objects: 100% (47/47), done.\n",
      "/content/drive/MyDrive/web_mining/web_Mining/twint\n",
      "Looking in indexes: https://pypi.org/simple, https://us-python.pkg.dev/colab-wheels/public/simple/\n",
      "Processing /content/drive/MyDrive/web_mining/web_Mining/twint\n",
      "\u001b[33m  DEPRECATION: A future pip version will change local packages to be built in-place without first copying to a temporary directory. We recommend you use --use-feature=in-tree-build to test your packages with this new behavior before it becomes the default.\n",
      "   pip 21.3 will remove support for this functionality. You can find discussion regarding this at https://github.com/pypa/pip/issues/7555.\u001b[0m\n",
      "Requirement already satisfied: aiohttp in /usr/local/lib/python3.7/dist-packages (from -r requirements.txt (line 1)) (3.8.3)\n",
      "Collecting aiodns\n",
      "  Downloading aiodns-3.0.0-py3-none-any.whl (5.0 kB)\n",
      "Requirement already satisfied: beautifulsoup4 in /usr/local/lib/python3.7/dist-packages (from -r requirements.txt (line 3)) (4.6.3)\n",
      "Collecting cchardet\n",
      "  Downloading cchardet-2.1.7-cp37-cp37m-manylinux2010_x86_64.whl (263 kB)\n",
      "\u001b[K     |████████████████████████████████| 263 kB 11.8 MB/s \n",
      "\u001b[?25hCollecting dataclasses\n",
      "  Downloading dataclasses-0.6-py3-none-any.whl (14 kB)\n",
      "Collecting elasticsearch\n",
      "  Downloading elasticsearch-8.5.2-py3-none-any.whl (385 kB)\n",
      "\u001b[K     |████████████████████████████████| 385 kB 55.9 MB/s \n",
      "\u001b[?25hRequirement already satisfied: pysocks in /usr/local/lib/python3.7/dist-packages (from -r requirements.txt (line 7)) (1.7.1)\n",
      "Requirement already satisfied: pandas>=0.23.0 in /usr/local/lib/python3.7/dist-packages (from -r requirements.txt (line 8)) (1.3.5)\n",
      "Collecting aiohttp_socks<=0.4.1\n",
      "  Downloading aiohttp_socks-0.4.1-py3-none-any.whl (17 kB)\n",
      "Collecting schedule\n",
      "  Downloading schedule-1.1.0-py2.py3-none-any.whl (10 kB)\n",
      "Requirement already satisfied: geopy in /usr/local/lib/python3.7/dist-packages (from -r requirements.txt (line 11)) (1.17.0)\n",
      "Collecting fake-useragent\n",
      "  Downloading fake_useragent-1.1.0-py3-none-any.whl (50 kB)\n",
      "\u001b[K     |████████████████████████████████| 50 kB 5.8 MB/s \n",
      "\u001b[?25hCollecting googletransx\n",
      "  Downloading googletransx-2.4.2.tar.gz (13 kB)\n",
      "Requirement already satisfied: numpy>=1.17.3 in /usr/local/lib/python3.7/dist-packages (from pandas>=0.23.0->-r requirements.txt (line 8)) (1.21.6)\n",
      "Requirement already satisfied: python-dateutil>=2.7.3 in /usr/local/lib/python3.7/dist-packages (from pandas>=0.23.0->-r requirements.txt (line 8)) (2.8.2)\n",
      "Requirement already satisfied: pytz>=2017.3 in /usr/local/lib/python3.7/dist-packages (from pandas>=0.23.0->-r requirements.txt (line 8)) (2022.6)\n",
      "Requirement already satisfied: attrs>=19.2.0 in /usr/local/lib/python3.7/dist-packages (from aiohttp_socks<=0.4.1->-r requirements.txt (line 9)) (22.1.0)\n",
      "Requirement already satisfied: frozenlist>=1.1.1 in /usr/local/lib/python3.7/dist-packages (from aiohttp->-r requirements.txt (line 1)) (1.3.3)\n",
      "Requirement already satisfied: aiosignal>=1.1.2 in /usr/local/lib/python3.7/dist-packages (from aiohttp->-r requirements.txt (line 1)) (1.3.1)\n",
      "Requirement already satisfied: asynctest==0.13.0 in /usr/local/lib/python3.7/dist-packages (from aiohttp->-r requirements.txt (line 1)) (0.13.0)\n",
      "Requirement already satisfied: async-timeout<5.0,>=4.0.0a3 in /usr/local/lib/python3.7/dist-packages (from aiohttp->-r requirements.txt (line 1)) (4.0.2)\n",
      "Requirement already satisfied: yarl<2.0,>=1.0 in /usr/local/lib/python3.7/dist-packages (from aiohttp->-r requirements.txt (line 1)) (1.8.1)\n",
      "Requirement already satisfied: charset-normalizer<3.0,>=2.0 in /usr/local/lib/python3.7/dist-packages (from aiohttp->-r requirements.txt (line 1)) (2.1.1)\n",
      "Requirement already satisfied: multidict<7.0,>=4.5 in /usr/local/lib/python3.7/dist-packages (from aiohttp->-r requirements.txt (line 1)) (6.0.2)\n",
      "Requirement already satisfied: typing-extensions>=3.7.4 in /usr/local/lib/python3.7/dist-packages (from aiohttp->-r requirements.txt (line 1)) (4.1.1)\n",
      "Requirement already satisfied: six>=1.5 in /usr/local/lib/python3.7/dist-packages (from python-dateutil>=2.7.3->pandas>=0.23.0->-r requirements.txt (line 8)) (1.15.0)\n",
      "Requirement already satisfied: idna>=2.0 in /usr/local/lib/python3.7/dist-packages (from yarl<2.0,>=1.0->aiohttp->-r requirements.txt (line 1)) (2.10)\n",
      "Collecting pycares>=4.0.0\n",
      "  Downloading pycares-4.2.2-cp37-cp37m-manylinux_2_17_x86_64.manylinux2014_x86_64.whl (288 kB)\n",
      "\u001b[K     |████████████████████████████████| 288 kB 56.8 MB/s \n",
      "\u001b[?25hRequirement already satisfied: cffi>=1.5.0 in /usr/local/lib/python3.7/dist-packages (from pycares>=4.0.0->aiodns->-r requirements.txt (line 2)) (1.15.1)\n",
      "Requirement already satisfied: pycparser in /usr/local/lib/python3.7/dist-packages (from cffi>=1.5.0->pycares>=4.0.0->aiodns->-r requirements.txt (line 2)) (2.21)\n",
      "Collecting elastic-transport<9,>=8\n",
      "  Downloading elastic_transport-8.4.0-py3-none-any.whl (59 kB)\n",
      "\u001b[K     |████████████████████████████████| 59 kB 6.7 MB/s \n",
      "\u001b[?25hRequirement already satisfied: certifi in /usr/local/lib/python3.7/dist-packages (from elastic-transport<9,>=8->elasticsearch->-r requirements.txt (line 6)) (2022.9.24)\n",
      "Collecting urllib3<2,>=1.26.2\n",
      "  Downloading urllib3-1.26.13-py2.py3-none-any.whl (140 kB)\n",
      "\u001b[K     |████████████████████████████████| 140 kB 66.6 MB/s \n",
      "\u001b[?25hRequirement already satisfied: geographiclib<2,>=1.49 in /usr/local/lib/python3.7/dist-packages (from geopy->-r requirements.txt (line 11)) (1.52)\n",
      "Requirement already satisfied: importlib-metadata~=4.0 in /usr/local/lib/python3.7/dist-packages (from fake-useragent->-r requirements.txt (line 12)) (4.13.0)\n",
      "Requirement already satisfied: importlib-resources>=5.0 in /usr/local/lib/python3.7/dist-packages (from fake-useragent->-r requirements.txt (line 12)) (5.10.0)\n",
      "Requirement already satisfied: zipp>=0.5 in /usr/local/lib/python3.7/dist-packages (from importlib-metadata~=4.0->fake-useragent->-r requirements.txt (line 12)) (3.10.0)\n",
      "Requirement already satisfied: requests in /usr/local/lib/python3.7/dist-packages (from googletransx->-r requirements.txt (line 13)) (2.23.0)\n",
      "Requirement already satisfied: chardet<4,>=3.0.2 in /usr/local/lib/python3.7/dist-packages (from requests->googletransx->-r requirements.txt (line 13)) (3.0.4)\n",
      "Collecting requests\n",
      "  Downloading requests-2.28.1-py3-none-any.whl (62 kB)\n",
      "\u001b[K     |████████████████████████████████| 62 kB 1.2 MB/s \n",
      "\u001b[?25hBuilding wheels for collected packages: twint, googletransx\n",
      "  Building wheel for twint (setup.py) ... \u001b[?25l\u001b[?25hdone\n",
      "  Created wheel for twint: filename=twint-2.1.21-py3-none-any.whl size=38870 sha256=ec3b98a8efd3b504225e32c5f56b6c9d9adcee12f29a1112b21872fc279e457e\n",
      "  Stored in directory: /tmp/pip-ephem-wheel-cache-vqgo5li3/wheels/32/e7/72/f637d8e3152680eb550bafea6ea8ade51831260bbc1ba9708d\n",
      "  Building wheel for googletransx (setup.py) ... \u001b[?25l\u001b[?25hdone\n",
      "  Created wheel for googletransx: filename=googletransx-2.4.2-py3-none-any.whl size=15968 sha256=4956b84a03590b0da136b1883e0c0fdb8a2dca654fbf83c55a6513b446f207c9\n",
      "  Stored in directory: /root/.cache/pip/wheels/66/d5/b1/31104b338f7fd45aa8f7d22587765db06773b13df48a89735f\n",
      "Successfully built twint googletransx\n",
      "Installing collected packages: urllib3, requests, pycares, elastic-transport, schedule, googletransx, fake-useragent, elasticsearch, dataclasses, cchardet, aiohttp-socks, aiodns, twint\n",
      "  Attempting uninstall: urllib3\n",
      "    Found existing installation: urllib3 1.24.3\n",
      "    Uninstalling urllib3-1.24.3:\n",
      "      Successfully uninstalled urllib3-1.24.3\n",
      "  Attempting uninstall: requests\n",
      "    Found existing installation: requests 2.23.0\n",
      "    Uninstalling requests-2.23.0:\n",
      "      Successfully uninstalled requests-2.23.0\n",
      "Successfully installed aiodns-3.0.0 aiohttp-socks-0.4.1 cchardet-2.1.7 dataclasses-0.6 elastic-transport-8.4.0 elasticsearch-8.5.2 fake-useragent-1.1.0 googletransx-2.4.2 pycares-4.2.2 requests-2.28.1 schedule-1.1.0 twint-2.1.21 urllib3-1.26.13\n"
     ]
    }
   ],
   "source": [
    "!git clone --depth=1 https://github.com/twintproject/twint.git\n",
    "%cd twint\n",
    "!pip3 install . -r requirements.txt"
   ]
  },
  {
   "cell_type": "code",
   "execution_count": 4,
   "metadata": {
    "colab": {
     "base_uri": "https://localhost:8080/"
    },
    "executionInfo": {
     "elapsed": 4483,
     "status": "ok",
     "timestamp": 1669750839781,
     "user": {
      "displayName": "19-132 Muhammad Salman Al Farisi",
      "userId": "16576458071114986096"
     },
     "user_tz": -420
    },
    "id": "we5zgkFr57OJ",
    "outputId": "3172f6cb-6248-4102-855f-7c81df887b9d"
   },
   "outputs": [
    {
     "name": "stdout",
     "output_type": "stream",
     "text": [
      "Looking in indexes: https://pypi.org/simple, https://us-python.pkg.dev/colab-wheels/public/simple/\n",
      "Collecting nest-asyncio\n",
      "  Downloading nest_asyncio-1.5.6-py3-none-any.whl (5.2 kB)\n",
      "Installing collected packages: nest-asyncio\n",
      "Successfully installed nest-asyncio-1.5.6\n"
     ]
    }
   ],
   "source": [
    "!pip install nest-asyncio"
   ]
  },
  {
   "cell_type": "code",
   "execution_count": 5,
   "metadata": {
    "colab": {
     "base_uri": "https://localhost:8080/"
    },
    "executionInfo": {
     "elapsed": 6475,
     "status": "ok",
     "timestamp": 1669750858276,
     "user": {
      "displayName": "19-132 Muhammad Salman Al Farisi",
      "userId": "16576458071114986096"
     },
     "user_tz": -420
    },
    "id": "ZkocgRx85-95",
    "outputId": "9c2c5957-298b-4387-df87-10f69c59e067"
   },
   "outputs": [
    {
     "name": "stdout",
     "output_type": "stream",
     "text": [
      "Looking in indexes: https://pypi.org/simple, https://us-python.pkg.dev/colab-wheels/public/simple/\n",
      "Collecting aiohttp==3.7.0\n",
      "  Downloading aiohttp-3.7.0-cp37-cp37m-manylinux2014_x86_64.whl (1.3 MB)\n",
      "\u001b[K     |████████████████████████████████| 1.3 MB 15.3 MB/s \n",
      "\u001b[?25hRequirement already satisfied: attrs>=17.3.0 in /usr/local/lib/python3.7/dist-packages (from aiohttp==3.7.0) (22.1.0)\n",
      "Collecting async-timeout<4.0,>=3.0\n",
      "  Downloading async_timeout-3.0.1-py3-none-any.whl (8.2 kB)\n",
      "Requirement already satisfied: multidict<7.0,>=4.5 in /usr/local/lib/python3.7/dist-packages (from aiohttp==3.7.0) (6.0.2)\n",
      "Requirement already satisfied: chardet<4.0,>=2.0 in /usr/local/lib/python3.7/dist-packages (from aiohttp==3.7.0) (3.0.4)\n",
      "Requirement already satisfied: yarl<2.0,>=1.0 in /usr/local/lib/python3.7/dist-packages (from aiohttp==3.7.0) (1.8.1)\n",
      "Requirement already satisfied: idna>=2.0 in /usr/local/lib/python3.7/dist-packages (from yarl<2.0,>=1.0->aiohttp==3.7.0) (2.10)\n",
      "Requirement already satisfied: typing-extensions>=3.7.4 in /usr/local/lib/python3.7/dist-packages (from yarl<2.0,>=1.0->aiohttp==3.7.0) (4.1.1)\n",
      "Installing collected packages: async-timeout, aiohttp\n",
      "  Attempting uninstall: async-timeout\n",
      "    Found existing installation: async-timeout 4.0.2\n",
      "    Uninstalling async-timeout-4.0.2:\n",
      "      Successfully uninstalled async-timeout-4.0.2\n",
      "  Attempting uninstall: aiohttp\n",
      "    Found existing installation: aiohttp 3.8.3\n",
      "    Uninstalling aiohttp-3.8.3:\n",
      "      Successfully uninstalled aiohttp-3.8.3\n",
      "Successfully installed aiohttp-3.7.0 async-timeout-3.0.1\n"
     ]
    }
   ],
   "source": [
    "!pip install aiohttp==3.7.0"
   ]
  },
  {
   "cell_type": "code",
   "execution_count": 6,
   "metadata": {
    "colab": {
     "base_uri": "https://localhost:8080/"
    },
    "executionInfo": {
     "elapsed": 3636,
     "status": "ok",
     "timestamp": 1669750870318,
     "user": {
      "displayName": "19-132 Muhammad Salman Al Farisi",
      "userId": "16576458071114986096"
     },
     "user_tz": -420
    },
    "id": "_CYLKsUf6C7v",
    "outputId": "d86db5c1-e9a6-4566-ef4e-199941d920ea"
   },
   "outputs": [
    {
     "name": "stdout",
     "output_type": "stream",
     "text": [
      "1597676920128561153 2022-11-29 19:40:35 +0000 <KingGaseng> Iki nek ra draw buakalane perang dunia 3\n",
      "1597676463473315840 2022-11-29 19:38:46 +0000 <BocahArusBawah> Dengan gambaran ini saja jika @ganjarpranowo bergandengan maju bersama @prabowo , bisa dipastikan PILPRES 2024 hanya 1 putaran meraup 58% dan dimenangkan @ganjarpranowo @prabowo  https://t.co/lKgFG5zpIr\n",
      "1597674849069330433 2022-11-29 19:32:22 +0000 <jQjIWj61LkKxOYF> Kayaknya @prabowo juga masuk dalam sebutan...?\n",
      "1597674690373615616 2022-11-29 19:31:44 +0000 <PuguhAjiPrabowo> lagi dan lagi aku dicintai seorang wanita sedih gue.. gue tu males cinta cintaan... nikah juga males kalau ngewek hayuuukk 🤣\n",
      "1597674310747172864 2022-11-29 19:30:13 +0000 <icallaci88> @Miduk17 Prabowo DI BAWAH ganjar nih ceritanya bong ??   @prabowo @Gerindra\n",
      "1597674262831443968 2022-11-29 19:30:02 +0000 <WartaEkonomi> Jokowi Sudah Pastikan: Saya Cek Pak Prabowo, Kerutan Wajahnya Ada, Rambutnya Juga Ada Putihnya  https://t.co/FCP1ivJgdw\n",
      "1597674038528159745 2022-11-29 19:29:08 +0000 <Otakuntilanak48> Oshimen Sendy Ariani JKT48, Fav Song Temodemo no Namida, #SFK48\n",
      "1597673606217355264 2022-11-29 19:27:25 +0000 <moh_aak> @soen_cak @seruanhl @ganjarpranowo Pasti klo pak ganjar  Anes jadi 0% Prabowo juga 0%\n",
      "1597671530758303744 2022-11-29 19:19:10 +0000 <santaliaa> @Gerindra @smbdyto_u @tanyarlfes @prabowo 😭😭\n",
      "1597670296152342528 2022-11-29 19:14:16 +0000 <Dakjal888> @JParidjal @ziezie84187091 @BosPurwa Potong telinga gue kalo Anis Bisa sampe jadi bacalon, jangan mimpi ngarep mau ke RI. Bacalon aja gk bisa 😂  Pak Ganjar lu main lawan? Lawan dulu elektabilitas pak Prabowo 😁  Gk ada ruang buat Yaman Dan ARAB RADIKAL di Indo ya Kadrun!   PRESIDEN HARUS 100% PRIBUMI !!!🥰\n",
      "1597669984137715712 2022-11-29 19:13:02 +0000 <WulandaPrabowo> Panasnyaa gilaaaa..butuh penyejuk,apalagi penyejuk hati aku,kamuu :)\n",
      "1597669885899083776 2022-11-29 19:12:38 +0000 <CryptoKang> @AndiSinulingga @jokowi GANJAR PRABOWO itu dah paling benar\n",
      "1597667980321894400 2022-11-29 19:05:04 +0000 <TimorSabiru> @BoyRembaya @PartaiSocmed @aniesbaswedan Lah itu strateginya, kasih php sama semua calon. Biar semua pada menjilat pantat jokowi.  Yang paling ngebet dan penasaran sih kayaknya prabowo. Nyalon ketiga kali pasti dia bakal keluarin modal abis²an 🤭\n",
      "1597666171007823872 2022-11-29 18:57:53 +0000 <agungsyaht_> @tvOneNews sekarang malah ngasih harapan ke Prabowo,hedeh\n",
      "1597665820712525824 2022-11-29 18:56:29 +0000 <andiadhye> @prabowo Sy tetap setia mendukungmu pak..meskipun didunia  belum bisa memimpin negeri ini,bahwa sejatinya engkau diselamatkan dari dosa dosa yg ada di bla bla bla\n",
      "1597665541329936384 2022-11-29 18:55:22 +0000 <BossToukeeIsa> @FirzaHusainID Berapa besar kemungkinan menang jika pasangan capres-cawapres 2024 nanti  @puanmaharani_ri - @erickthohir  atau @erickthohir - @ganjarpranowo bisa juga @prabowo - @erickthohir  ????\n",
      "1597664647112404992 2022-11-29 18:51:49 +0000 <princesdisnep> @prabowo Bobby cayankkk\n",
      "1597663618215997440 2022-11-29 18:47:44 +0000 <9164Wahyu> PDIP, Gerinda, PKB, PPP Capres: Prabowo Cawapres: Puan Maharani  Nasdem, Demokrat, PAN, PKS Capres: Anies Baswedan Cawapres: AHY  Golkar, Perindo, Hanura, PSI Capres: Ganjar Pranowo Cawapres: Eric Thohir.\n",
      "1597663509579714560 2022-11-29 18:47:18 +0000 <Simanjunta9Nico> Elektabilitas Anies Dipuncak, Eks Ketua Harian Golkar Aceh Utara: Rakyat Menaruh Harapan Besar.  “Ini hal yang wajar karena hanya Anies yang dapat momentum politik, Prabowo masih biasa-biasa saja, meskipun dia sudah mengumumkan capres dari Gerindra.”    https://t.co/oJPb29xM7w\n",
      "1597663377513680896 2022-11-29 18:46:47 +0000 <bulbulbulan> @Miduk17 Duh aku team Pak Prabowo, pls pls Pak Prabowo dong jd presiden 2024 😭🙏🏽\n",
      "1597663255983312896 2022-11-29 18:46:18 +0000 <bowlink1997> @SyafarSik68 @jokowi Lha kan Prabowo Ganjar satu jatah presiden satunya jatah wakil presiden\n",
      "1597663155442036736 2022-11-29 18:45:54 +0000 <ArifudinNur71> Ini baru Survei yang benar, masa Prabowo Ketua Partai di simpan di urutan ke 3, dasar kelakuan Kadrun.\n",
      "1597662447967801344 2022-11-29 18:43:05 +0000 <WulandaPrabowo> Jupe aja yang gedenya sebaskom tiwul ditinggalin, apalagi gue. :(\n",
      "1597660781331767301 2022-11-29 18:36:28 +0000 <Andes_1976> @RobbyHaneur Sadarlah, Rakyat blum Lupa sejarah, SBY/JK Mundur dri Kabinet Mega,  Politik memang Kejam  Mega yg angkat harkat SBY, Prabowo yg Angkat Harkat Anis  Jdi Paham yah ???\n",
      "1597660195647545346 2022-11-29 18:34:08 +0000 <Reilly_Prabowo> @LullabyWeb3 Done\n",
      "1597659698052071425 2022-11-29 18:32:09 +0000 <Andes_1976> @Relawananies Survey di rumah saya 50% 50 %  Dri 4 Koresponden Yg Dua Prabowo Yg Dua Ganjar  Itu hak dri Kami satu Rumah ( Demokrasi ), Ayah, Ibu dan Anak 2\n",
      "1597659519257305091 2022-11-29 18:31:27 +0000 <WigitBale1> @roestanto_ @catchmeupid Tego tenan kui, sadis\n",
      "1597658941923917826 2022-11-29 18:29:09 +0000 <Otakuntilanak48> Anonymous account, Member of #SFK48 #TeamSaveAs #TeamPerusuhRF\n",
      "1597658619331633152 2022-11-29 18:27:52 +0000 <YthBapakLuhut> @GerakAnies @msaid_didu Prabowo, yg dua lain banyak buzzernya\n",
      "1597658332587732992 2022-11-29 18:26:44 +0000 <mediaonokae> Presiden Jokowi: Sosok Calon Pemimpin Berambut Putih, Sebut Nama Prabowo  https://t.co/XvaVgvUXfY\n",
      "1597656934861049856 2022-11-29 18:21:10 +0000 <BPragestu> Prabowo mengatakan persaingan adalah hal yang biasa. Namun, yang terpenting adalah kerukunan. Mending Prabowo  https://t.co/kciwTtkcZ0 dekade08\n",
      "1597656933091397632 2022-11-29 18:21:10 +0000 <fitrah_ravi> Hadiri Munas KAHMI, Prabowo Disambut Riuh Para Pekerja Bandara Palu: Presidenku, Rek!. Mending Prabowo  https://t.co/bo0oBl2Ap2 dekade08\n",
      "1597656598536933378 2022-11-29 18:19:50 +0000 <MutiaNazha> Menteri Pertahanan RI Prabowo Subianto optimistis Indonesia memiliki masa depan yang baik asal masyarakatnya rukun dan bersatu. Mending Prabowo  https://t.co/3Zx7Pq0f6A dekade08\n",
      "1597656553460727808 2022-11-29 18:19:40 +0000 <ruthgrccc> Ketua Umum Partai Gerindra Prabowo Subianto menanggapi pernyataan Presiden Jokowi soal ciri-ciri fisik pemimpin. Mending Prabowo  https://t.co/JVfzEeV9O5 dekade08\n",
      "1597656539418230784 2022-11-29 18:19:36 +0000 <DzkyAlif> Ini putih banyak kan, putih,\" kata Prabowo sambil menunjukkan kepalanya. Mending Prabowo  https://t.co/KdLqB42t3O dekade08\n",
      "1597656502382497792 2022-11-29 18:19:27 +0000 <Cici00793996> @tanyarlfes @prabowo ayok pak ceritain bikin podcast\n",
      "1597656456362307584 2022-11-29 18:19:16 +0000 <putri_meylania> Prabowo mengajak masyarakat untuk mengerem sifat suka menjatuhkan kawan sendiri dan saling hujat satu sama lain. Mending Prabowo  https://t.co/sbKCBjzfAJ dekade08\n",
      "1597656443557408768 2022-11-29 18:19:13 +0000 <noorisml> “Persaingan itu biasa. Monggo ya kan?.Nanti ada pemilihan bupati, pemilihan ini itu, pilpres. Yang terpenting yang terpilih benar-benar bekerja untuk rakyat,” ujar Prabowo. Mending Prabowo  https://t.co/yYwQQvrseL dekade08\n",
      "1597656418395377664 2022-11-29 18:19:07 +0000 <donpratma> “Kita sebetulnya harus bersyukur kita memiliki masa depan yang baik. Asal, ada asalnya apakah kita bisa rukun bersatu atau kita ribut terus?” kata Prabowo. Mending Prabowo  https://t.co/EkimnPsu4U dekade08\n",
      "1597656389689610241 2022-11-29 18:19:00 +0000 <FatimaSyahrida> Prabowo optimistis Indonesia memiliki masa depan yang baik asal masyarakatnya rukun dan bersatu. Mending Prabowo  https://t.co/SAtMQfBd66 dekade08\n",
      "1597656334006358016 2022-11-29 18:18:47 +0000 <lillyaulia3> Prabowo: Selama Rakyat Bersatu, Tak Ada Negara yang Berani Ganggu Indonesia. Mending Prabowo  https://t.co/0cqPR7dN9p dekade08\n",
      "1597656232101576704 2022-11-29 18:18:23 +0000 <VieraEsa> Prabowo pun menyalami satu per satu para pekerja tersebut seraya bertanya asal daerah masing-masing. Mending Prabowo  https://t.co/lDGGa0rf0H dekade08\n",
      "1597656220394872832 2022-11-29 18:18:20 +0000 <kahfi_pradana> Menhan Prabowo Subianto menanggapi dengan santai saat ditanya awak media soal pernyataan Presiden Jokowi tentang pemimpin berambut putih. Mending Prabowo  https://t.co/S5AzjPepTE dekade08\n",
      "1597656219174699009 2022-11-29 18:18:20 +0000 <SalmaRamania> Saat sampai di bandara, Prabowo dihampiri oleh para pekerja proyek yang bekerja di bandara tersebut dan meminta foto bersama. Mending Prabowo  https://t.co/9Wur1XNILY dekade08\n",
      "1597656206981894144 2022-11-29 18:18:17 +0000 <fahira_almira> Prabowo menjadi pembicara dalam Musyawarah Nasional (Munas) ke XI Korps Alumni Himpunan Mahasiswa Islam (KAHMI) di Sriti Convention Hall. Mending Prabowo  https://t.co/hKyFLulLOL dekade08\n",
      "1597656165944815616 2022-11-29 18:18:07 +0000 <BellaCatrina1> Prabowo menyebutkan dirinya dan PPDI adalah sahabat, sejak tahun 2014 menjabat sebagai ketua umum HKTI Prabowo dan PPDI mendorong lahirnya program 1 milyar 1 desa. Mending Prabowo  https://t.co/WN9TY9mO92 dekade08\n",
      "1597656165240176640 2022-11-29 18:18:07 +0000 <ASaerong> Prabowo menyebut, kesepakatan dan persetujuan RUU tersebut diambil dalam Rapat Kerja Komisi I DPR RI-Menhan RI yang digelar secara tertutup. Mending Prabowo  https://t.co/2UsJokmZsy dekade08\n",
      "1597656160580284417 2022-11-29 18:18:06 +0000 <hudaprasetyo12> Deni menjelaskan, sekitar 95 persen warga mengaku tahu, kenal atau pernah mendengar nama Prabowo. Mending Prabowo  https://t.co/bGQIdOiKAx dekade08\n",
      "1597656138429800449 2022-11-29 18:18:01 +0000 <ArkanAzinudin> Direktur Riset SRMC, Deni Irvani, menyebut Ketua Umum Gerindra Prabowo Subianto tampil sebagai tokoh calon presiden (capres) paling populer. Mending Prabowo  https://t.co/RQmnfI9Tc6 dekade08\n",
      "1597656083581243392 2022-11-29 18:17:47 +0000 <GhaisaniMalita> Prabowo optimistis kedai kopinya bakal laris didatangi pengunjung. Namun, eks Danjen Kopassus ini tidak yakin akan untung atau buntung. Mending Prabowo  https://t.co/dAkXzU6P7L dekade08\n",
      "1597656061997068288 2022-11-29 18:17:42 +0000 <yoga_nugrh> \"Ini hampir dua jam saya bicara ini. Minum kopi dulu, ya, boleh?\" Saya nanti kalau pensiun mau buka warung kopi,\" kata Prabowo. Mending Prabowo  https://t.co/BWWkmFKCYP dekade08\n",
      "1597656048411680768 2022-11-29 18:17:39 +0000 <IntanArsita2> Hadiri Mukernas PPDI, Prabowo Minta Perangkat Desa Terus Jaga Kerukunan. Mending Prabowo  https://t.co/RmZenGxJpU dekade08\n",
      "1597656032528175104 2022-11-29 18:17:35 +0000 <mutualanngezzz> @3dogawaa @smbdyto_u @tanyarlfes @Gerindra @prabowo Wkwkwk panikkk\n",
      "1597656028958818304 2022-11-29 18:17:34 +0000 <BaskoroRetno> Menteri Pertahanan (Menhan) Prabowo Subianto menjadi keynote speaker di salah satu sesi IdeaTalks dalam acara IdeaFest 2022. Mending Prabowo  https://t.co/57hO73bI6Y dekade08\n",
      "1597656023510134785 2022-11-29 18:17:33 +0000 <ChrinYulita> Jokowi sempat menyebut Pilpres 2024 merupakan giliran Prabowo untuk memenangkannya. Mending Prabowo  https://t.co/gvYNxTKzMm dekade08\n",
      "1597655990132146176 2022-11-29 18:17:25 +0000 <sasqia_radaulii> Prabowo Ingin Buka Coffee Shop saat Pensiun. Mending Prabowo  https://t.co/QWNG9QUDA3 dekade08\n",
      "1597655969781407744 2022-11-29 18:17:20 +0000 <BungaAnindyaa> Dibagikan juga buku Paradoks Indonesia dan kepimpinan militer catatan pengalaman Prabowo Subianto kepada ratusan perangkat desa yang mengukuti mukernas, rakernas dan rapimnas PPDI. Mending Prabowo  https://t.co/8VUvOtJpjl dekade08\n",
      "1597655963498344449 2022-11-29 18:17:19 +0000 <HHasyima> \"Yang tidak setuju dengan perjuangan partai, mempertahankan Pancasila dan UUD 1945 dan NKRI silakan mencari partai lain,\" kata Prabowo. Mending Prabowo  https://t.co/d4k3rRmULA dekade08\n",
      "1597655951150002176 2022-11-29 18:17:16 +0000 <YoanaNatalia5> Tanggapi soal Pemimpin Rambut Putih, Prabowo Tunjuk Kepalanya: Ini Banyak kan. Mending Prabowo  https://t.co/ulU16QzgGt dekade08\n",
      "1597655935753019392 2022-11-29 18:17:12 +0000 <LisaTrianda> \"Program itu membuat rakyat bangkit dan peredaran uang banyak di Indonesia tidak lagi mengalir keluar negeri,\" kata Prabowo. Mending Prabowo  https://t.co/127c9BXMtf dekade08\n",
      "1597655901585887233 2022-11-29 18:17:04 +0000 <DesiSyahdila> \"Mari kita jaga kerukunan, kompak dan memihara kesejukan,\" kata Prabowo. Mending Prabowo  https://t.co/NuM11t7sRG dekade08\n",
      "1597655897261498368 2022-11-29 18:17:03 +0000 <PangkeySheila> Prabowo menyampaikan, sembilan fraksi di DPR telah menyetujui RUU itu untuk dibahas ke Tingkat II dalam Sidang Paripurna DPR RI untuk disahkan menjadi Undang Undang. Mending Prabowo  https://t.co/0aYKSpb4ha dekade08\n",
      "1597655881034117120 2022-11-29 18:16:59 +0000 <DeniHasibuan5> \"Untuk memperkuat hubungan bilateral dengan kedua negara juga membuka kesempatan dan meningkatkan kerja sama di bidang pertahanan serta berimplikasi positif pada aspek politik,\". Mending Prabowo  https://t.co/05l1CsK1I6 dekade08\n",
      "1597655880895721473 2022-11-29 18:16:59 +0000 <MaulindaWita> Menteri Pertananan RI, Prabowo Subianto menghadiri langsung penutupan musyawarah kerja nasional, rapat kerja nasional dan rapat pimpinan nasional PPDI. Mending Prabowo  https://t.co/dfQWZT1DcO dekade08\n",
      "1597655859425083392 2022-11-29 18:16:54 +0000 <GitaYudistia> Menhan Prabowo menyebutkan dirinya dan PPDI adalah bersahabat dalam mendorong lahirnya program 1 milyar 1 desa. Mending Prabowo  https://t.co/Zz0O4BfQc7 dekade08\n",
      "1597655838306336768 2022-11-29 18:16:49 +0000 <GinaLolita5> Prabowo menyebutkan, agar menjaga kerukunan, kompak dan memihara kesejukan. Mending Prabowo  https://t.co/DfpwNTDXH1 dekade08\n",
      "1597655820103450624 2022-11-29 18:16:45 +0000 <AmarossaD> Jokowi mempersilakan pernyataannya itu diartikan sebagai sebuah sinyal dukungan ke Prabowo Subianto. Mending Prabowo  https://t.co/uIJ9ZCXCm2 dekade08\n",
      "1597655818056318976 2022-11-29 18:16:44 +0000 <glen_wiliam> Menteri Pertahanan RI, Prabowo Subianto menghadiri musyawarah kerja nasinal dan rapat kerja nasional Persatuan Perangkat Desa Indonesia (PPDI). Mending Prabowo  https://t.co/e7HZcGfNok dekade08\n",
      "1597655749966319617 2022-11-29 18:16:28 +0000 <ErmanBenho> Prabowo meresponsnya dengan tertawa dan menunjuk rambutnya yang sudah memutih sebagian. Mending Prabowo  https://t.co/lxJHPTAk0V dekade08\n",
      "1597655737278136320 2022-11-29 18:16:25 +0000 <AngelaJantz8> Menteri Pertahanan (Menhan) Prabowo Subianto pun menanggapi dengan santai saat ditanya awak media soal pernyataan Jokowi itu. Mending Prabowo  https://t.co/ItVQGhIO1y dekade08\n",
      "1597655728478507009 2022-11-29 18:16:23 +0000 <RYashleena> Bolak-balik Jokowi Dukung Prabowo dan Ganjar via Kode Politik. Mending Prabowo  https://t.co/84RYfKlLMb dekade08\n",
      "1597655694290743297 2022-11-29 18:16:15 +0000 <fadila_fardan> Prabowo mengapresiasi dukungan Prancis selama Indo Defence 2022 Expo and Forum. Mending Prabowo  https://t.co/LLvDxcLGLx dekade08\n",
      "1597655682815528961 2022-11-29 18:16:12 +0000 <RiyukaB> \"Agenda Rapat ini terdiri dari sesi pembahasan, sesi pengambilan keputusan dan diakhiri dengan penandatanganan naskah RUU dan penjelasan,\" jelas Prabowo. Mending Prabowo  https://t.co/9Fnvey43Uz dekade08\n",
      "1597655595317809152 2022-11-29 18:15:51 +0000 <ErikaKarlina2> Menteri Pertahanan Menhan RI Prabowo Subianto menyampaikan bahwa saat ini Indonesia tengah mewaspadai kondisi politik dunia karena penuh ketidakpastian. Mending Prabowo  https://t.co/GO0P0ydOAH dekade08\n",
      "1597655593954971648 2022-11-29 18:15:51 +0000 <BunaoJustel> Menteri Pertahanan Republik Indonesia Prabowo Subianto bersama Komisi I DPR RI menyetujui dua Rancangan Undang-Undang (RUU) Tentang Kerja Sama Bidang Pertahanan. Mending Prabowo  https://t.co/sCArO6inS7 dekade08\n",
      "1597655581640208385 2022-11-29 18:15:48 +0000 <AnandaPut10> Prabowo dan DPR Sepakati RUU Kerja Sama Pertahanan RI dengan Singapura-Fiji. Mending Prabowo  https://t.co/zU9hxYE9qe dekade08\n",
      "1597655548014755840 2022-11-29 18:15:40 +0000 <syabirulla> Jokowi mengatakan setelah ini kemungkinan Pilpres 2024 jatahnya Ketua Umum Partai Gerindra Prabowo Subianto yang merupakan rivalnya di dua pilpres sebelumnya. Mending Prabowo  https://t.co/fEsf4OiM1t dekade08\n"
     ]
    }
   ],
   "source": [
    "import nest_asyncio\n",
    "nest_asyncio.apply() #digunakan sekali untuk mengaktifkan tindakan serentak dalam notebook jupyter.\n",
    "import twint #untuk import twint\n",
    "c = twint.Config()\n",
    "c.Search = 'prabowo'\n",
    "c.Pandas = True\n",
    "c.Limit = 70\n",
    "twint.run.Search(c)"
   ]
  },
  {
   "cell_type": "code",
   "execution_count": 7,
   "metadata": {
    "colab": {
     "base_uri": "https://localhost:8080/"
    },
    "executionInfo": {
     "elapsed": 433,
     "status": "ok",
     "timestamp": 1669750889588,
     "user": {
      "displayName": "19-132 Muhammad Salman Al Farisi",
      "userId": "16576458071114986096"
     },
     "user_tz": -420
    },
    "id": "kcHJpLpG6IiT",
    "outputId": "fc62ae72-3cc9-44cf-d705-88a526a4e0b8"
   },
   "outputs": [
    {
     "data": {
      "text/plain": [
       "0              Iki nek ra draw buakalane perang dunia 3\n",
       "1     Dengan gambaran ini saja jika @ganjarpranowo b...\n",
       "2        Kayaknya @prabowo juga masuk dalam sebutan...?\n",
       "3     lagi dan lagi aku dicintai seorang wanita sedi...\n",
       "4     @Miduk17 Prabowo DI BAWAH ganjar nih ceritanya...\n",
       "                            ...                        \n",
       "72    \"Agenda Rapat ini terdiri dari sesi pembahasan...\n",
       "73    Menteri Pertahanan Menhan RI Prabowo Subianto ...\n",
       "74    Menteri Pertahanan Republik Indonesia Prabowo ...\n",
       "75    Prabowo dan DPR Sepakati RUU Kerja Sama Pertah...\n",
       "76    Jokowi mengatakan setelah ini kemungkinan Pilp...\n",
       "Name: tweet, Length: 77, dtype: object"
      ]
     },
     "execution_count": 7,
     "metadata": {},
     "output_type": "execute_result"
    }
   ],
   "source": [
    "Tweets_dfs = twint.storage.panda.Tweets_df\n",
    "Tweets_dfs[\"tweet\"]"
   ]
  },
  {
   "cell_type": "code",
   "execution_count": 8,
   "metadata": {
    "colab": {
     "base_uri": "https://localhost:8080/",
     "height": 17
    },
    "executionInfo": {
     "elapsed": 427,
     "status": "ok",
     "timestamp": 1669750902146,
     "user": {
      "displayName": "19-132 Muhammad Salman Al Farisi",
      "userId": "16576458071114986096"
     },
     "user_tz": -420
    },
    "id": "4-evC5vr6LPK",
    "outputId": "fd8c0245-6b5e-44b8-85a5-0bf88b5398ae"
   },
   "outputs": [
    {
     "data": {
      "application/javascript": [
       "\n",
       "    async function download(id, filename, size) {\n",
       "      if (!google.colab.kernel.accessAllowed) {\n",
       "        return;\n",
       "      }\n",
       "      const div = document.createElement('div');\n",
       "      const label = document.createElement('label');\n",
       "      label.textContent = `Downloading \"${filename}\": `;\n",
       "      div.appendChild(label);\n",
       "      const progress = document.createElement('progress');\n",
       "      progress.max = size;\n",
       "      div.appendChild(progress);\n",
       "      document.body.appendChild(div);\n",
       "\n",
       "      const buffers = [];\n",
       "      let downloaded = 0;\n",
       "\n",
       "      const channel = await google.colab.kernel.comms.open(id);\n",
       "      // Send a message to notify the kernel that we're ready.\n",
       "      channel.send({})\n",
       "\n",
       "      for await (const message of channel.messages) {\n",
       "        // Send a message to notify the kernel that we're ready.\n",
       "        channel.send({})\n",
       "        if (message.buffers) {\n",
       "          for (const buffer of message.buffers) {\n",
       "            buffers.push(buffer);\n",
       "            downloaded += buffer.byteLength;\n",
       "            progress.value = downloaded;\n",
       "          }\n",
       "        }\n",
       "      }\n",
       "      const blob = new Blob(buffers, {type: 'application/binary'});\n",
       "      const a = document.createElement('a');\n",
       "      a.href = window.URL.createObjectURL(blob);\n",
       "      a.download = filename;\n",
       "      div.appendChild(a);\n",
       "      a.click();\n",
       "      div.remove();\n",
       "    }\n",
       "  "
      ],
      "text/plain": [
       "<IPython.core.display.Javascript object>"
      ]
     },
     "metadata": {},
     "output_type": "display_data"
    },
    {
     "data": {
      "application/javascript": [
       "download(\"download_9c056161-8b6c-4bc1-9080-530313143ce3\", \"prabowo.csv\", 11461)"
      ],
      "text/plain": [
       "<IPython.core.display.Javascript object>"
      ]
     },
     "metadata": {},
     "output_type": "display_data"
    }
   ],
   "source": [
    "Tweets_dfs[\"tweet\"].to_csv(\"prabowo.csv\")\n",
    "from google.colab import files \n",
    "#files.download('prabowo.csv')"
   ]
  },
  {
   "cell_type": "markdown",
   "metadata": {
    "id": "hKtP5p2O6Qab"
   },
   "source": [
    "# **Mengambil Data**\n",
    "\n",
    "Proses ini digunakan untuk mengambil 100 data tweet yang telah disimpan dalam github dengan format .csv\n",
    "\n"
   ]
  },
  {
   "cell_type": "code",
   "execution_count": null,
   "metadata": {
    "id": "Dsyh56GJ6UjH"
   },
   "outputs": [],
   "source": []
  }
 ],
 "metadata": {
  "colab": {
   "provenance": [],
   "toc_visible": true
  },
  "kernelspec": {
   "display_name": "Python 3",
   "language": "python",
   "name": "python3"
  },
  "language_info": {
   "codemirror_mode": {
    "name": "ipython",
    "version": 3
   },
   "file_extension": ".py",
   "mimetype": "text/x-python",
   "name": "python",
   "nbconvert_exporter": "python",
   "pygments_lexer": "ipython3",
   "version": "3.7.15"
  }
 },
 "nbformat": 4,
 "nbformat_minor": 0
}