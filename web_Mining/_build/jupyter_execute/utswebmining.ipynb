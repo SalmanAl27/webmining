{
 "cells": [
  {
   "cell_type": "markdown",
   "metadata": {
    "id": "z2LOGUB7tyLY"
   },
   "source": [
    "# **UTS WEB MINING**"
   ]
  },
  {
   "cell_type": "code",
   "execution_count": 1,
   "metadata": {
    "executionInfo": {
     "elapsed": 7,
     "status": "ok",
     "timestamp": 1670933954873,
     "user": {
      "displayName": "19-132 Muhammad Salman Al Farisi",
      "userId": "16576458071114986096"
     },
     "user_tz": -420
    },
    "id": "0C0DbLYOFBRa"
   },
   "outputs": [],
   "source": [
    "# from google.colab import drive\n",
    "# drive.mount('/content/drive')"
   ]
  },
  {
   "cell_type": "code",
   "execution_count": 2,
   "metadata": {
    "executionInfo": {
     "elapsed": 11,
     "status": "ok",
     "timestamp": 1670933955850,
     "user": {
      "displayName": "19-132 Muhammad Salman Al Farisi",
      "userId": "16576458071114986096"
     },
     "user_tz": -420
    },
    "id": "jZDSq5_tFVYw"
   },
   "outputs": [],
   "source": [
    "# %cd /content/drive/MyDrive/web_mining/"
   ]
  },
  {
   "cell_type": "markdown",
   "metadata": {
    "id": "MWuX3TBKt1xw"
   },
   "source": [
    "# 1. Analisa Clustering dengan menggunakan K-Mean\n",
    "\n",
    "\n"
   ]
  },
  {
   "cell_type": "markdown",
   "metadata": {
    "id": "We3kl8nTuMUF"
   },
   "source": [
    "# **Data crawling**\n",
    "Data crawling atau perayapan data adalah proses pengambilan data yang tersedia secara online untuk umum. Proses ini kemudian mengimpor informasi atau data yang telah ditemukan ke dalam file lokal di komputer Anda."
   ]
  },
  {
   "cell_type": "markdown",
   "metadata": {
    "id": "nAb2TIcEu-81"
   },
   "source": [
    "## Twint\n",
    "\n",
    "Twint adalah sebuah tools yang digunakan untuk melakukan scrapping dari aplikasi twitter yang disetting secara khusus menggunakan bahasa pemrograman Python. Twint dapat kita gunakan dan jalankan tanpa harus menggunakan API dari Twitter itu sendiri, dengan kapasitas scrapping data maksimalnya adalah 3200 tweet.\n",
    "\n",
    "Bukan hanya digunakan pada tweet, twint juga bisa kita gunakan untuk melakukan scrapping pada user, followers, retweet dan sebagainya. Twint memanfaatkan operator pencarian twitter untuk memungkinkan proses penghapusan tweet dari user tertentu, memilih dan memilah informasi-informasi yang sensitif, termasuk email dan nomor telepon di dalamnya."
   ]
  },
  {
   "cell_type": "code",
   "execution_count": 3,
   "metadata": {
    "executionInfo": {
     "elapsed": 10,
     "status": "ok",
     "timestamp": 1670933955850,
     "user": {
      "displayName": "19-132 Muhammad Salman Al Farisi",
      "userId": "16576458071114986096"
     },
     "user_tz": -420
    },
    "id": "xFH7xVwxUhEC"
   },
   "outputs": [],
   "source": [
    "# !git clone --depth=1 https://github.com/twintproject/twint.git\n",
    "# %cd twint\n",
    "# !pip3 install -r requirements.txt"
   ]
  },
  {
   "cell_type": "code",
   "execution_count": 4,
   "metadata": {
    "executionInfo": {
     "elapsed": 11,
     "status": "ok",
     "timestamp": 1670933955851,
     "user": {
      "displayName": "19-132 Muhammad Salman Al Farisi",
      "userId": "16576458071114986096"
     },
     "user_tz": -420
    },
    "id": "m2K-DUnBDdU_"
   },
   "outputs": [],
   "source": [
    "# !pip install nest-asyncio"
   ]
  },
  {
   "cell_type": "code",
   "execution_count": 5,
   "metadata": {
    "executionInfo": {
     "elapsed": 12,
     "status": "ok",
     "timestamp": 1670933955852,
     "user": {
      "displayName": "19-132 Muhammad Salman Al Farisi",
      "userId": "16576458071114986096"
     },
     "user_tz": -420
    },
    "id": "MkvP5Mt3DeJ1"
   },
   "outputs": [],
   "source": [
    "# !pip install aiohttp==3.7.0"
   ]
  },
  {
   "cell_type": "code",
   "execution_count": 6,
   "metadata": {
    "colab": {
     "base_uri": "https://localhost:8080/"
    },
    "executionInfo": {
     "elapsed": 2809,
     "status": "ok",
     "timestamp": 1670933958650,
     "user": {
      "displayName": "19-132 Muhammad Salman Al Farisi",
      "userId": "16576458071114986096"
     },
     "user_tz": -420
    },
    "id": "D-A1_9INDgUQ",
    "outputId": "c3ded54c-0303-43e0-80cb-7ad01408b2b5"
   },
   "outputs": [
    {
     "ename": "ModuleNotFoundError",
     "evalue": "No module named 'twint'",
     "output_type": "error",
     "traceback": [
      "\u001b[0;31m\u001b[0m",
      "\u001b[0;31mModuleNotFoundError\u001b[0mTraceback (most recent call last)",
      "\u001b[0;32m<ipython-input-6-4c503b1aeb97>\u001b[0m in \u001b[0;36m<module>\u001b[0;34m\u001b[0m\n\u001b[1;32m      1\u001b[0m \u001b[0;32mimport\u001b[0m \u001b[0mnest_asyncio\u001b[0m\u001b[0;34m\u001b[0m\u001b[0;34m\u001b[0m\u001b[0m\n\u001b[1;32m      2\u001b[0m \u001b[0mnest_asyncio\u001b[0m\u001b[0;34m.\u001b[0m\u001b[0mapply\u001b[0m\u001b[0;34m(\u001b[0m\u001b[0;34m)\u001b[0m \u001b[0;31m#digunakan sekali untuk mengaktifkan tindakan serentak dalam notebook jupyter.\u001b[0m\u001b[0;34m\u001b[0m\u001b[0;34m\u001b[0m\u001b[0m\n\u001b[0;32m----> 3\u001b[0;31m \u001b[0;32mimport\u001b[0m \u001b[0mtwint\u001b[0m \u001b[0;31m#untuk import twint\u001b[0m\u001b[0;34m\u001b[0m\u001b[0;34m\u001b[0m\u001b[0m\n\u001b[0m\u001b[1;32m      4\u001b[0m \u001b[0mc\u001b[0m \u001b[0;34m=\u001b[0m \u001b[0mtwint\u001b[0m\u001b[0;34m.\u001b[0m\u001b[0mConfig\u001b[0m\u001b[0;34m(\u001b[0m\u001b[0;34m)\u001b[0m\u001b[0;34m\u001b[0m\u001b[0;34m\u001b[0m\u001b[0m\n\u001b[1;32m      5\u001b[0m \u001b[0mc\u001b[0m\u001b[0;34m.\u001b[0m\u001b[0mSearch\u001b[0m \u001b[0;34m=\u001b[0m \u001b[0;34m'tragedi Kanjuruhan'\u001b[0m\u001b[0;34m\u001b[0m\u001b[0;34m\u001b[0m\u001b[0m\n",
      "\u001b[0;31mModuleNotFoundError\u001b[0m: No module named 'twint'",
      "",
      "\u001b[0;31m---------------------------------------------------------------------------\u001b[0;32m\nNOTE: If your import is failing due to a missing package, you can\nmanually install dependencies using either !pip or !apt.\n\nTo view examples of installing some common dependencies, click the\n\"Open Examples\" button below.\n\u001b[0;31m---------------------------------------------------------------------------\u001b[0m\n"
     ]
    }
   ],
   "source": [
    "import nest_asyncio\n",
    "nest_asyncio.apply() #digunakan sekali untuk mengaktifkan tindakan serentak dalam notebook jupyter.\n",
    "import twint #untuk import twint\n",
    "c = twint.Config()\n",
    "c.Search = 'tragedi Kanjuruhan'\n",
    "c.Pandas = True\n",
    "c.Limit = 70\n",
    "twint.run.Search(c)"
   ]
  },
  {
   "cell_type": "code",
   "execution_count": 111,
   "metadata": {
    "colab": {
     "base_uri": "https://localhost:8080/"
    },
    "executionInfo": {
     "elapsed": 29,
     "status": "ok",
     "timestamp": 1670933958652,
     "user": {
      "displayName": "19-132 Muhammad Salman Al Farisi",
      "userId": "16576458071114986096"
     },
     "user_tz": -420
    },
    "id": "AW4keKjdDkwm",
    "outputId": "3df08537-d93c-44ae-ab7b-f70760c235df"
   },
   "outputs": [
    {
     "data": {
      "text/plain": [
       "0                                                                                                                                                                                                 @iIhamzada Alhamdulillah udah gak pernah nonton lagi semenjak tragedi kanjuruhan, doakan semoga saya konsisten dan istiqomah 🙏\n",
       "1                   @parkbyunhe @byunkags Dari kmren nih gw liat sring bgt ada akun lokal yg tiba2 salpak ngedrag idol lain bawa2 BTS ARMY atau bandingin idol lain, eh pas kbukti trnyta bukan army. Owh iya yg thread lexxi itu ya fitnah army, tntg tragedi kanjuruhan ampe brapa ribu ya yg ngelike trnyta kbukti bukan army\n",
       "2                                                                                                                                                                         @Indostransfer @pt_lib Tragedi kanjuruhan aja gak tanggunjawab apalagi soal ini, udah bosen protes terus soal kenerja federasi dan perangkatnya, capek\n",
       "3                                                                                                                                                                                      Pikiran Suporter (Podcast) X Tobias Ginanjar \"Liga 1 Berjalan, Jangan Lupakan Tragedi Kanjuruhan\"    https://t.co/KXj5sMKuaI via @YouTube\n",
       "4                                                     Ketua pssi jatim yg tdk.mampu mengulirkan liga 3 zona jatim, ketua komite wasit yg kinerja wasit akhir2 ini kebacut, maringene nyalon waketum pssi, tragedi kanjuruhan paling bersuara gawe pssi. Lek mene milih wong iki, gk usah protes didzolimi maneh @persebayaupdate\n",
       "5                                                                                                                          Pikiran Suporter (Podcast) X Tobias Ginanjar \"Liga 1 Berjalan, Jangan Lupakan Tragedi Kanjuruhan\"  @toptobs @v_frontline_pc @officialvpc LINK LIVE:  https://t.co/KXj5sMKuaI  https://t.co/f98KXaezHa\n",
       "6                                                                                                                                                                                                        Tim Hukum Aremania Desak Polisi Rekonstruksi Ulang Tragedi Kanjuruhan  https://t.co/LycTtsa4HN  https://t.co/mv1eEd7CyR\n",
       "7                                                                                                                                                                                                                                                                               @Fandom_ID yang ga bakal lupa tragedi kanjuruhan\n",
       "8                                                                                                                                                       @zenrs Masih banyak yang percaya kalau Tragedi Kanjuruhan terjadi hanya karena pitch invasion mas. Ya gpp. Itu pilihan mereka.  #UsutTuntasTragediKanjuruhan #UsutTuntas\n",
       "9                                                                                                                                                          @AlionelMessi_ Menghabisi persebaya. Penyebab tragedi kanjuruhan . Menurut mereka 🤣 coba aja persebaya ga menang ga ada korban. Begitulah mungkin cara pandang mereka\n",
       "10                                                                       Sempet bingung kenapa liga dilanjutkan tanpa penonton setelah tragedi kanjuruhan. Ternyata LIB mengambil langkah yang tepat, nek liga dilanjutkan dengan penonton wasit wasit mereka yang gobloknya konsisten ini wes jelas diuber sak stadion. Salut👏🏻\n",
       "11                                                                                                                                                    @nazmiwhyarm @idextratime Apa gunanya kemarin Lobby FIFA agar gak kena sanksi gara2 tragedi Kanjuruhan harusnya itu momentum pas buat bersih2 sampah d sepakbola Indonesia\n",
       "12                                                                                                                                                                               @The_RedsIndo Sejak tragedi Kanjuruhan ga mau nonton di TV atau streaming Vidio. Tanpa penonton bukannya tambah bener, malah makin semena-mena😅\n",
       "13                                                                                                                                                                                                       Tragedi Kanjuruhan belum selesai tp liga dilanjutkan aja udah aneh. Jangan heran kalo banyak keanehan lain di dalamnya.\n",
       "14                                                                                                                                                                                                                   @Fandom_ID Teu ngaruh kitu nya ku tragedi kanjuruhan?haneut keneh 😂  Assalamualaikum ya akhi ya ukhti @PSSI\n",
       "15                                      Gak kaget. Kanjuruhan itu test case ke sekian. Untuk tragedi sebesar itu aja bisa dibiarkan selow2 aja, maka urusan wasit yg dari lama gak beres ini juga akan terus ada pembiaran.  Apalagi Persebaya vokal banget. Opo dipikir kroni2 PSSI akan membiarkan Persebaya enak2an? Y ga lah\n",
       "16                                                                          @Aazi_ Lah bubble system itu bukannya bentuk evaluasi tragedi sepakbola Kanjuruhan? Main malem jadi pemicu chaos kalau ada penonton langsung, kalau gak ada penonton ya oke oke aja. Siapa tau setelah bubble system, gak akan ada match jam segitu.\n",
       "17                                                Ketua Tim Advokasi Aremania Menggugat Sesalkan Pembongkaran Stadion.  Ketua Tim Advokasi Bantuan Hukum Aremania Menggugat yang tergabung dalam Sekretaris Bersama (Sekber), Djoko…  https://t.co/2mIAfLJAIY #Olahraga #Aremania #Malang #TragediKanjuruhan via @beritajatimcom\n",
       "18                                                                                                                                                                                                                           Lo kira pasca Tragedi kanjuruhan Sepakbola Indonesia bakal intropeksi diri dan bebenah? Jelas kaga.\n",
       "19                                                                                                                                                             @zenrs Aku leren wes meloki bal-balan liga Indonesia pas enek tragedi Kanjuruhan dan ga rampung sampe saiki. Soale penyakit e wes angel diwarasne. Sumpek deloke.\n",
       "20                                                                                                                                                                                                                                                    @Fandom_ID Semenjak tragedi Kanjuruhan sdh gk menarik lagi nonton liga1 😂😂\n",
       "21                                                                                                                                                      Aku baru cek email dan trnyata ada email sejak awal  bulan nov bantuan Tahap 1 udah di salurkan..  hatiku masih sakit sama tragedi Kanjuruhan 😭  https://t.co/RhKs7M4Rfh\n",
       "22                                                                                                         @zenrs Setelah semuanya \"meledak\" di tragedi kanjuruhan. Kini masalah itu kembali diakumulasi, bergabung dgn masalah2 sejak dulu yg blm terselesaikan. Mungkin \"ledakan\" itu akan muncul lagi di masa yg akan datang.\n",
       "23                                                                                                                                   Pikiran Suporter (Podcast) X Tobias Ginanjar \"Liga 1 Berjalan, Jangan Lupakan Tragedi Kanjuruhan\"  @toptobs @v_frontline_pc @officialvpc #Liga1 #TragediKanjuruhan  https://t.co/9UDcWYrdTZ\n",
       "24                                                                                                                                                                                             Kita gak bisa nuntut perbaikan sepak bola nasional keseluruhan tp tutup mata dengan pengusutan tragedi Kanjuruhan. Mimpi kali ye.\n",
       "25                                                                                                                                       Alhamdulillah, KTT G20 udah selesai &amp; akhirnya pengamanan acara pernikahan agung jg paripurna dgn suksesss. Tragedi Kanjuruhan kelanjutannya gmn @ListyoSigitP ?? korbannya 135 org\n",
       "26                                                                                                                                                                         Liga blm siap dimulai pasca tragedi Kanjuruhan, malah dipaksakan. Keputusan wasit juga akan memancing kerusuhan suporter yg bisa memakan korban jiwa.\n",
       "27                                                                                                                                                            @Fandom_ID sblm tragedi kanjuruhan perasaan ga se banyak ini dah, kek sepekan ±1-2 aja. ini abis tragedi yg katanya mau berbenah kok malah jadi lebih sering anjrt\n",
       "28                                                                                                                                 @officialocci itulah kenapa aku lelah dengan drama bertele ini,. kasus tragedi kanjuruhan juga belum selesai juga meski udah ada penetapan tersangka,. rasanya cuma kek normatif aja semuanya\n",
       "29                               @Fandom_ID Baru saja 130an orang meninggal dan ratusan lainnya luka2 karena sepakbola, masih ingat ga sih?wkwkwk @PSSI   Trus kepikiran gak sih kalo wasitnya begini2 aja berpotensi terjadi tragedi kanjuruhan 2, 3, 4, 5 dst?kemarin evaluasi ngapain aja wahai bapak2? @PSSI @iriawan84  😂😂😂\n",
       "30                                                                                                                                                                               @FaktaSepakbola Semenjak tragedi kanjuruhan gua makin enek aja liat liga indo, kalo bukan karna cinta sama club jakarta udah males liat nya jg🥺\n",
       "31                                                                                                                                                                                                                                 Mereka yang hadir di Kanjuruhan saat tragedi terjadi ada digelar kegiatan gini juga nggak ya?\n",
       "32                                                                                                                                                                                                                                                                                13.12 MENOLAK LUPA TRAGEDI KANJURUHAN #ACABday\n",
       "33                                                                                                                                                                                                                   Sejak tragedi kanjuruhan. Sudah tidak mau nonton liga 1, gak taunya kualitas sepak bolanya makin mantel aja\n",
       "34    @slttteth @ucihasasske @devaprima299 @kaesangp Lah bolone peyan sg nyenggol ndisik marai liga 1 distop, yo adewe sg ra salah opo2 kesel to mas e. Iki arema menang iso haha hihi ra kelingan isih ono tragedi Kanjuruhan sg rung diselidiki, aku yo turut berduka, tapi nek ws haha hihi kudune nek disenggol gelem to sam\n",
       "35                                           Tiga Keluarga Korban Tragedi Kanjuruhan Buat Laporan Baru ke Polres Malang.  Malang ( https://t.co/ksziGGp1k3) – Keluarga korban Tragedi Kanjuruhan terus mencari keadilan. Tiga keluarga…  https://t.co/DJZ5Z256dY #Peristiwa #KeluargaKorbanTragediKanjuruhan via @beritajatimcom\n",
       "36                                                                                   Jangankan minta maaf sekelas broadcaster  yg bikin tayangan malam hari Liga 1 sebagai sebab sampai terjadi tragedi Kanjuruhan.  Pemimpin media Mojok aja yang masih level bawah, belum juga minta maaf soal arogansinya moto2 tempat makan.\n",
       "37                                                                                                                                                                                                                                                                                apa kabar kasus tragedi kanjuruhan iki bos ???\n",
       "38                                      Happy 1.3.1.2 Day  Kapan institusi keamanan ini tidak mengancam rasa aman masyarakat lagi? 135 nyawa tragedi kanjuruhan dianggap hanya sebagai kejadian saja sampai sekarang #UsutTuntas #UsutTuntasTragediKanjuruhan masih jauh dr titik terang  Semoga para perusak segera dpt balasan\n",
       "39                                                                                                                                                                                                                                                     @SiaranBolaLive Undur diri setelah Tragedi Kanjuruhan ❓❓❓❓❓❓  #UsutTuntas\n",
       "40                                                                                                                                                                                                         6 Duka Mendalam di Tahun 2022, Meninggalnya Eril Anak Ridwan Kamil hingga Tragedi Kanjuruhan  https://t.co/MOpAZUfZXJ\n",
       "41                                                                                                                                                                                                                                           3 Keluarga Korban Tragedi Kanjuruhan Datangi Polres Malang  https://t.co/vITNPxgfMa\n",
       "42                                                                                                                                                                                                                Dikawal Aremania Menggugat, Tiga Keluarga Korban Tragedi Kanjuruhan Buat Laporan Baru  https://t.co/BDM5xK15t2\n",
       "43                                                                                                @AREMA1986Merch @kaesangp Sek dilakoni kaesang dinggo tragedi kanjuruhan wes akeh vot Kongres luar biasa. Iku wes bentuk upoyo gae sepakbola sek apik. Arema selaku sek kenek tragedi opo lelakonne. Gur meneng melok pak e IB\n",
       "44                                                                                                   Penyidik Ditreskrimum Polda Jatim kembali menyerahkan berkas perkara Tragedi Kanjuruhan, Malang ke kejaksaan Tinggi Jawa Timur. Pengembalian ini adalah yang kali kedua dari penyidik kepolisian.   https://t.co/KYTrvGzjkr\n",
       "45                                                                                                                                                @AremafcOfficial gimana pergerakan dan perkembangan soal tragedi kanjuruhan ?? sudah sampai mana ?? akankah terlelap begitu saja di makan oleh waktu ?? 100 nyawa lebih loh ??\n",
       "46                                                                                                                                                                                                                       40 HARI PASCA TRAGEDI KANJURUHAN, AHY AJAK RAKYAT KAWAL INVESTIGASI SAMPAI TUNTAS ❗ #AHYPimpinPerubahan\n",
       "47                                                                                                                                                                                       🙏🏻🙏🏻🙏🏻 khususon Almarhum/mah tragedy GBLA-Kanjuruhan (bonek-jak fans-bototoh) Alfatehah 🤲🏻  #UsutTuntas 💔🥀 #UsutTuntasTragediKanjuruhan\n",
       "48                                                                                                                                                                                       🙏🏻🙏🏻🙏🏻 khususon Almarhum/mah tragedy GBLA-Kanjuruhan (bonek-jak fans-bototoh) Alfatehah 🤲🏻  #UsutTuntas 💔🥀 #UsutTuntasTragediKanjuruhan\n",
       "49                                                                                                                                                                                                                                   Yang Tersisa dari Tragedi Kanjuruhan: Pengelolaan Stadion ke Depan  https://t.co/IinNrzHkrO\n",
       "50                                                                Malang, 2 bulan lebih setelah Tragedi Kanjuruhan. Kemarahan dan kesedihan masih terus bergema di setiap sudut kota.  Siapa pun akan turut merasakan, betapa nyawa yang hilang tak tergantikan. Dan usut tuntas adalah jalan keadilan.  https://t.co/72ca4G2Hjf\n",
       "51                                                                                                                                                                        @edi_sioon @idextratime Males nonton liga PSSI, semenjak tragedi kanjuruhan. Gua udh muak dgn persepakbolaan nasional. Bahkan nonton timnas pun males.\n",
       "52                                                                                                                                                                                                                                                                                 Happy 1312 day! Tragedi Kanjuruhan apa kabar?\n",
       "53                                 Indonesia saw one of the world's worst football tragedy on Oct 1st. 135 deaths. What happened exactly and what is behind Indonesia's Football Violence? Catch it on Thurs Dec 15 at 9pm SG/Msia time here  https://t.co/2IfaAVVvlN  #indonesia #football #kanjuruhan  https://t.co/lfbwwAFOdE\n",
       "54                                                                                                                                                                                                                                            AHY: Tragedi Kanjuruhan Insiden Yang Memilukan, Juga Memalukan #AHYPimpinPerubahan\n",
       "55                                                 Bener ancen akeh seng menyuarakan kejadian tragedi kajuruhan tapi setelah iku opo tetap awak e dewe Iki gampang di adu domba opo maneh suporter. Ayo berjuang Iki duduk masalah keadilan Kanjuruhan tok Iki gawe kedepan e anak cucu mu cek ga di gawe dulinan keadilan Iki !\n",
       "56                                                                                                                                                                                @rodrigosantono @DivHumas_Polri @HumasPoldaJatim Fotonya dijadiin gambar kaos #usuttuntas kelihatannya bagus. Foto legend tragedi Kanjuruhan..\n",
       "57                                                                                                                                                                                                                                                              @SiaranBolaLive Undur diri setelah #TRAGEDIKANJURUHAN :Aremania😓\n",
       "58                                                                                                                                                                                                              Semoga... #utas #usuttuntas #kawalsampaituntas #tragedikanjuruhan #justiceforkanjuruhan  https://t.co/a91zHWjjm9\n",
       "59                                                                                                                                                                                                                      Lagu \"Kanjuruhan\" sebagai Pengingat Tragedi Kanjuruhan  https://t.co/ziobYroWOc  https://t.co/9gpaV0vS0D\n",
       "60                                                                                                                                                                                                    @AREMA1986Merch @kaesangp Cara fikirmu aja yang kebalik, emang setelah tragedi kanjuruhan apa yang lu dapet dari Arema FC?\n",
       "61                                                                                                                                                                                                                                      Pembongkaran Pagar Stadion Tak Terkait Kasus Tragedi Kanjuruhan  https://t.co/vSOx4n2aRU\n",
       "62                                       GORO GORO KON KOLEM LIGA. TRAGEDI KANJURUHAN YG MENGORBANKAN 135+ NYAWA DADI BHN LELUCON SAK INDONESIA. JANCOK KON IKU. SAMPEK KPN PUN AYAS GAK BAKAL DUKUNG UMAK KABEH, SAMPEK TRAGEDI KANJURUHAN TERUSUT TUNTAS TANPA TERKECUALI TERMASUK SUPPORTER SENG MODON LAPANGAN!  #USUTTUNTAS\n",
       "63                                                                                                                                                                                                                                                    Pingpong Berkas Perkara Tragedi Kanjuruhan Malang  https://t.co/IYf79q6kbn\n",
       "64                                                                                                                                                                                                 Kapolresta Sidoarjo Salurkan Taliasih dan Bantuan Sepeda Untuk Anak Polisi Korban Tragedi Kanjuruhan  https://t.co/tWiVhVpD0O\n",
       "65                                                                                                                             @bukalepak @AremaPersib @garagarabola_ Semua elemen Suporter pada rusuh tapi hanya di #TRAGEDIKANJURUHAN yang dianggap kesalahan aremania...     udah dapat jatah pisang 🍌 dari sang SANG???  🙉🙈🙊\n",
       "66                                                                                                                       @kusmaya59835147 @AREMA1986Merch @kaesangp Ok kamu sudah menyalahkan aremania dan termasuk didalamnya para korban #TRAGEDIKANJURUHAN teruss yang polisi menembakkan gas beracun itu apa sudah di hukum?\n",
       "67                                           Dan Tragedi Kanjuruhan terjadi 😔😭😭😭 Besar harapan, khususnya ayas pribadi, klub ikut membantu mencari keadilan bagi semua korban dan keluarga, yg ternyata tagar Usut Tuntas saja datang belakangan 😥 entah karena terus ditekan, atau sebab lain  Kenyataan berlanjut, hashtag hny\n",
       "68                                                                                                                                                                            @AREMA1986Merch @kaesangp Nyindir siapa ini @AremafcOfficial ? Walau saat berhenti dulu mendukungmu tapi ada yang nyinyirin #TRAGEDIKANJURUHAN 😥😥😥\n",
       "69                                                                                                                                                                                                                                         apakah tim produksi liga turut aktif  berperan dalam pengungkapan tragedi kanjuruhan?\n",
       "70                        Kapolresta Sidoarjo Kombes Pol. Kusumo Wahyu Bintoro berikan bantuan kepada keluarga anggota polri korban tragedi Kanjuruhan.   Semoga keluarga diberi ketabahan dan semoga tragedi serupa tidak terulang kembali.   Sumber - Youtube: Seputar iNews Jatim  #polrestasidoarjo  https://t.co/OAZqOyQlYS\n",
       "71                                                     2. Seperti yang diketahui, sepakbola Indonesia tengah menjadi sorotan pasca Tragedi di Stadion Kanjuruhan 1 Oktober lalu, tragedi yang merengut 135 suporter tersebut menjadi tragedi ke dua setelah tragedi kemanusiaan di Peru pada tahun 1964 yang merengut 318 orang.\n",
       "72                                                                                                                            @The_RedsIndo Jauh sebelum tragedi kanjuruhan, saya sudah berhenti nonton liga ini, tapi masih tetap nonton Timnas. Seluruh lapisan dari liga ini kacau, ntah siapa yg bisa menyelamatkan liga ini\n",
       "73                                                                                                                                                                                              Nah.. kejadian tragedi kanjuruhan seharusnya membuka mata suporter bahwa menonton sepakbola liga indonesia memang tidak aman 👀..\n",
       "74                                                                                                                                                                                                                          @khyleri Yeah, that part killing 370 people in my country, u can search Kanjuruhan tragedy in Google\n",
       "75                                                                                                     @AremafcOfficial Wes kekno ae piala ne nang klub asu iki,mandegno ae liga ne pas jangkep 1/2 musim,mulai musim anyar maneh.Warah en piala ne piala kehormatan gae korban2 tragedi kanjuruhan. Klub kok ra duwe isin blas.\n",
       "76                                                                                                                                                                                                                   orang yang menganggap kematian tragedi kanjuruhan karena salah aremania sendiri banyak gak sih di internet?\n",
       "77                                                                                                                                           @mohmahfudmd @TVOne ini meyangkut juga keamanan &amp; kesehatan para petugas  pemilu ga pak? masih ingat kan sama tragedi petugas pemilu tahun 2019? melebihin tragedi Kanjuruhan!!\n",
       "78                                                                                                                                                                                                                            @detikcom @detik_jatim Klo kalah PASTI ada tragedi kanjuruhan season 2, 3, 4 dst. Haparap maklum 😁\n",
       "79                                                                                                                                                                                                                                                 @idextratime Selama tragedi kanjuruhan ga ada kejelasan, HARAM liat liga indo\n",
       "Name: tweet, dtype: object"
      ]
     },
     "execution_count": 111,
     "metadata": {},
     "output_type": "execute_result"
    }
   ],
   "source": [
    "Tweets_dfs = twint.storage.panda.Tweets_df\n",
    "Tweets_dfs[\"tweet\"]"
   ]
  },
  {
   "cell_type": "code",
   "execution_count": 112,
   "metadata": {
    "executionInfo": {
     "elapsed": 10,
     "status": "ok",
     "timestamp": 1670933958652,
     "user": {
      "displayName": "19-132 Muhammad Salman Al Farisi",
      "userId": "16576458071114986096"
     },
     "user_tz": -420
    },
    "id": "H_YZ8M09DnZG"
   },
   "outputs": [],
   "source": [
    "Tweets_dfs[\"tweet\"].to_csv(\"Kanjuruhan.csv\")"
   ]
  },
  {
   "cell_type": "markdown",
   "metadata": {
    "id": "kfhORp51vW00"
   },
   "source": [
    "# **Mengambil Data**\n",
    "\n",
    "Proses ini digunakan untuk mengambil 100 data tweet yang telah disimpan dalam github dengan format .csv\n",
    "\n"
   ]
  },
  {
   "cell_type": "code",
   "execution_count": 113,
   "metadata": {
    "colab": {
     "base_uri": "https://localhost:8080/"
    },
    "executionInfo": {
     "elapsed": 3935,
     "status": "ok",
     "timestamp": 1670933962578,
     "user": {
      "displayName": "19-132 Muhammad Salman Al Farisi",
      "userId": "16576458071114986096"
     },
     "user_tz": -420
    },
    "id": "oSIOdhmaLkMf",
    "outputId": "cba2b9d7-fd45-4dd3-a7fc-347692518aa9"
   },
   "outputs": [
    {
     "name": "stdout",
     "output_type": "stream",
     "text": [
      "Looking in indexes: https://pypi.org/simple, https://us-python.pkg.dev/colab-wheels/public/simple/\n",
      "Requirement already satisfied: pandas in /usr/local/lib/python3.8/dist-packages (1.3.5)\n",
      "Requirement already satisfied: pytz>=2017.3 in /usr/local/lib/python3.8/dist-packages (from pandas) (2022.6)\n",
      "Requirement already satisfied: numpy>=1.17.3 in /usr/local/lib/python3.8/dist-packages (from pandas) (1.21.6)\n",
      "Requirement already satisfied: python-dateutil>=2.7.3 in /usr/local/lib/python3.8/dist-packages (from pandas) (2.8.2)\n",
      "Requirement already satisfied: six>=1.5 in /usr/local/lib/python3.8/dist-packages (from python-dateutil>=2.7.3->pandas) (1.15.0)\n"
     ]
    }
   ],
   "source": [
    "#install library pandas\n",
    "!pip install pandas"
   ]
  },
  {
   "cell_type": "code",
   "execution_count": null,
   "metadata": {
    "colab": {
     "base_uri": "https://localhost:8080/"
    },
    "id": "jdbqJE7nLn0f",
    "outputId": "c45645c9-9c69-47b5-c275-00c719ad9989"
   },
   "outputs": [
    {
     "name": "stdout",
     "output_type": "stream",
     "text": [
      "Looking in indexes: https://pypi.org/simple, https://us-python.pkg.dev/colab-wheels/public/simple/\n",
      "Requirement already satisfied: numpy in /usr/local/lib/python3.8/dist-packages (1.21.6)\n"
     ]
    }
   ],
   "source": [
    "#install library numpy\n",
    "!pip install numpy"
   ]
  },
  {
   "cell_type": "code",
   "execution_count": null,
   "metadata": {
    "id": "Y_QNdvwcLt8B"
   },
   "outputs": [],
   "source": [
    "import pandas as pd \n",
    "import numpy as np\n"
   ]
  },
  {
   "cell_type": "code",
   "execution_count": null,
   "metadata": {
    "id": "rlV9RgKLkOHg"
   },
   "outputs": [],
   "source": [
    "#install library sastrawi\n",
    "!pip install sastrawi"
   ]
  },
  {
   "cell_type": "code",
   "execution_count": null,
   "metadata": {
    "id": "2owXZ4DqnbEu"
   },
   "outputs": [],
   "source": [
    "#install library swifter\n",
    "!pip install swifter"
   ]
  },
  {
   "cell_type": "markdown",
   "metadata": {
    "id": "KdrHBoVoxWj-"
   },
   "source": [
    "# *Case Folding**\n",
    "\n",
    "Tahap untuk merubah teks yang memiliki huruf kapital menjadi huruf kecil"
   ]
  },
  {
   "cell_type": "code",
   "execution_count": null,
   "metadata": {
    "id": "bZb_8O0OMBc5"
   },
   "outputs": [],
   "source": [
    "Tweets_dfs[\"tweet\"] = Tweets_dfs[\"tweet\"].str.lower()\n",
    "\n",
    "\n",
    "Tweets_dfs[\"tweet\"]"
   ]
  },
  {
   "cell_type": "code",
   "execution_count": null,
   "metadata": {
    "id": "GrS6ADokZLfV"
   },
   "outputs": [],
   "source": [
    "#install library nltk\n",
    "!pip install nltk"
   ]
  },
  {
   "cell_type": "markdown",
   "metadata": {
    "id": "GidSZu_2ymdP"
   },
   "source": [
    "## Menghapus Karakter Spesial"
   ]
  },
  {
   "cell_type": "code",
   "execution_count": null,
   "metadata": {
    "id": "7PfMxOqmamxD"
   },
   "outputs": [],
   "source": [
    "import string \n",
    "import re #regex library\n",
    "# import word_tokenize & FreqDist from NLTK\n",
    "\n",
    "from nltk.tokenize import word_tokenize \n",
    "from nltk.probability import FreqDist\n",
    "\n",
    "# ------ Tokenizing ---------\n",
    "\n",
    "def remove_special(text):\n",
    "    # remove tab, new line, ans back slice\n",
    "    text = text.replace('\\\\t',\" \").replace('\\\\n',\" \").replace('\\\\u',\" \").replace('\\\\',\" \").replace('\\\\f',\" \").replace('\\\\r',\" \")\n",
    "    # remove non ASCII (emoticon, chinese word, .etc)\n",
    "    text = text.encode('ascii', 'replace').decode('ascii')\n",
    "    # remove mention, link, hashtag\n",
    "    text = ' '.join(re.sub(\"([@#][A-Za-z0-9]+)|(\\w+:\\/\\/\\S+)\",\" \", text).split())\n",
    "    # remove incomplete URL\n",
    "    return text.replace(\"http://\", \" \").replace(\"https://\", \" \")\n",
    "                \n",
    "Tweets_dfs[\"tweet\"] = Tweets_dfs[\"tweet\"].apply(remove_special)\n",
    "Tweets_dfs[\"tweet\"]\n"
   ]
  },
  {
   "cell_type": "markdown",
   "metadata": {
    "id": "4aaueWDLzwNm"
   },
   "source": [
    "## Menghapus Angka"
   ]
  },
  {
   "cell_type": "code",
   "execution_count": null,
   "metadata": {
    "id": "nWoNw6CsywxF"
   },
   "outputs": [],
   "source": [
    "\n",
    "#remove number\n",
    "def remove_number(text):\n",
    "    return  re.sub(r\"\\d+\", \"\", text)\n",
    "\n",
    "Tweets_dfs[\"tweet\"] = Tweets_dfs[\"tweet\"].apply(remove_number)\n",
    "Tweets_dfs[\"tweet\"]"
   ]
  },
  {
   "cell_type": "markdown",
   "metadata": {
    "id": "pY-4fnONz2Es"
   },
   "source": [
    "## Menghapus Tanda Baca"
   ]
  },
  {
   "cell_type": "code",
   "execution_count": null,
   "metadata": {
    "id": "iCr9v6zey0QJ"
   },
   "outputs": [],
   "source": [
    "\n",
    "#remove punctuation\n",
    "def remove_punctuation(text):\n",
    "    return text.translate(str.maketrans(\"\",\"\",string.punctuation))\n",
    "\n",
    "Tweets_dfs[\"tweet\"] = Tweets_dfs[\"tweet\"].apply(remove_punctuation)\n",
    "Tweets_dfs[\"tweet\"]"
   ]
  },
  {
   "cell_type": "markdown",
   "metadata": {
    "id": "zQQ9-N1_0Bvz"
   },
   "source": [
    "## Menghapus Spasi\n"
   ]
  },
  {
   "cell_type": "code",
   "execution_count": null,
   "metadata": {
    "id": "BFo_LuODy2n0"
   },
   "outputs": [],
   "source": [
    "\n",
    "#remove whitespace leading & trailing\n",
    "def remove_whitespace_LT(text):\n",
    "    return text.strip()\n",
    "\n",
    "Tweets_dfs[\"tweet\"] = Tweets_dfs[\"tweet\"].apply(remove_whitespace_LT)\n",
    "\n",
    "\n",
    "#remove multiple whitespace into single whitespace\n",
    "def remove_whitespace_multiple(text):\n",
    "    return re.sub('\\s+',' ',text)\n",
    "\n",
    "Tweets_dfs[\"tweet\"] = Tweets_dfs[\"tweet\"].apply(remove_whitespace_multiple)\n",
    "Tweets_dfs[\"tweet\"]"
   ]
  },
  {
   "cell_type": "markdown",
   "metadata": {
    "id": "kNKKQN460Vz0"
   },
   "source": [
    "## Menghapus huruf "
   ]
  },
  {
   "cell_type": "code",
   "execution_count": null,
   "metadata": {
    "id": "0UWUcE1ly9M1"
   },
   "outputs": [],
   "source": [
    "\n",
    "# remove single char\n",
    "def remove_singl_char(text):\n",
    "    return re.sub(r\"\\b[a-zA-Z]\\b\", \" \", text)\n",
    "\n",
    "Tweets_dfs[\"tweet\"] = Tweets_dfs[\"tweet\"].apply(remove_singl_char)\n",
    "Tweets_dfs[\"tweet\"]"
   ]
  },
  {
   "cell_type": "code",
   "execution_count": null,
   "metadata": {
    "id": "T30oghHxx2En"
   },
   "outputs": [],
   "source": [
    "import nltk\n",
    "nltk.download('punkt')"
   ]
  },
  {
   "cell_type": "markdown",
   "metadata": {
    "id": "ncy4Kc0h0gjs"
   },
   "source": [
    "# **Tokenizing**\n",
    "\n",
    "Tokenizing adalah proses pemisahan teks menjadi potongan-potongan yang disebut sebagai token untuk kemudian di analisa. Kata, angka, simbol, tanda baca dan entitas penting lainnya dapat dianggap sebagai token"
   ]
  },
  {
   "cell_type": "code",
   "execution_count": null,
   "metadata": {
    "id": "RrAM55OOy-t9"
   },
   "outputs": [],
   "source": [
    "\n",
    "# NLTK word Tokenize \n",
    "def word_tokenize_wrapper(text):\n",
    "    return word_tokenize(text)\n",
    "\n",
    "Tweets_dfs[\"tweet\"] = Tweets_dfs[\"tweet\"].apply(word_tokenize_wrapper)\n",
    "Tweets_dfs[\"tweet\"]"
   ]
  },
  {
   "cell_type": "markdown",
   "metadata": {
    "id": "LRII2cK-1XPc"
   },
   "source": [
    "# **Filtering(Stopwords Removal)**\n",
    "Proses untuk menghapus kata hubung atau kata yang tidak memiliki makna\n"
   ]
  },
  {
   "cell_type": "code",
   "execution_count": null,
   "metadata": {
    "id": "HyR-Rhpnijqv"
   },
   "outputs": [],
   "source": [
    "import nltk\n",
    "from nltk.corpus import stopwords\n",
    "nltk.download('stopwords')"
   ]
  },
  {
   "cell_type": "code",
   "execution_count": null,
   "metadata": {
    "id": "A9QuAKmgZ6py"
   },
   "outputs": [],
   "source": [
    "\n",
    "list_stopwords = stopwords.words('indonesian')\n",
    "\n",
    "#Menghapus Stopword dari list token\n",
    "def stopwords_removal(words):\n",
    "    return [word for word in words if word not in list_stopwords]\n",
    "\n",
    "Tweets_dfs[\"tweet\"] = Tweets_dfs[\"tweet\"].apply(stopwords_removal)\n",
    "\n",
    "Tweets_dfs[\"tweet\"]"
   ]
  },
  {
   "cell_type": "markdown",
   "metadata": {
    "id": "YuqMFVZa3H_d"
   },
   "source": [
    "# **Stemming**\n",
    "Data training hasil dari filtering akan dilakukan pengecekan atau pencarian kata-kata yang sesuai dengan kamus umum. Apabila data training hasil filtering sesuai dengan kamus umum maka kata akan dikeluarkan sementara, karena sudah dianggap sebagai kata dasar. Apabila masih terdapat kata yang tidak termasuk dalam kata dasar maka tahap selanjutnya adalah menghapus inflection suffixes yang merupakan akhiran pertama. Kata yang memiliki akhiran partticles seperti “-pun”, “-kah”, “-tah”, “- lah” dan akhiran possessive pronoun seperti “-mu”, “-ku” dan “-nya” dihilangkan. Setelah dilakukan proses case folding, tokenezing, dan filtering, proses selanjutnya yaitu stemming. Stemming yang digunakan pada penelitian ini menggunakan algoritma Enhanced Confix Stipping Stemmer, terdiri dari beberapa langkah: Data training hasil dari filtering akan dilakukan pengecekan atau pencarian kata-kata yang sesuai dengan kamus umum. Apabila data training hasil filtering sesuai dengan kamus umum maka kata akan dikeluarkan sementara, karena sudah dianggap sebagai kata dasar. Apabila masih terdapat kata yang tidak termasuk dalam kata dasar maka tahap selanjutnya adalah menghapus inflection suffixes yang merupakan akhiran pertama. Kata yang memiliki akhiran partticles seperti “-pun”, “-kah”, “-tah”, “- lah” dan akhiran possessive pronoun seperti “-mu”, “-ku” dan “-nya” dihilangkan."
   ]
  },
  {
   "cell_type": "code",
   "execution_count": null,
   "metadata": {
    "id": "uqFRhPar04EU"
   },
   "outputs": [],
   "source": [
    "from Sastrawi.Stemmer.StemmerFactory import StemmerFactory\n",
    "import swifter\n",
    "\n",
    "\n",
    "# create stemmer\n",
    "factory = StemmerFactory()\n",
    "stemmer = factory.create_stemmer()\n",
    "\n",
    "# stemmed\n",
    "def stemmed_wrapper(term):\n",
    "    return stemmer.stem(term)\n",
    "\n",
    "term_dict = {}\n",
    "\n",
    "for document in Tweets_dfs[\"tweet\"]:\n",
    "    for term in document:\n",
    "        if term not in term_dict:\n",
    "            term_dict[term] = ' '\n",
    "            \n",
    "print(len(term_dict))\n",
    "print(\"------------------------\")\n",
    "\n",
    "for term in term_dict:\n",
    "    term_dict[term] = stemmed_wrapper(term)\n",
    "    print(term,\":\" ,term_dict[term])\n",
    "    \n",
    "print(term_dict)\n",
    "print(\"------------------------\")\n",
    "\n",
    "\n",
    "# apply stemmed term to dataframe\n",
    "def get_stemmed_term(document):\n",
    "    return [term_dict[term] for term in document]\n",
    "\n",
    "Tweets_dfs[\"tweet\"] = Tweets_dfs[\"tweet\"].swifter.apply(get_stemmed_term)\n",
    "Tweets_dfs[\"tweet\"]"
   ]
  },
  {
   "cell_type": "markdown",
   "metadata": {
    "id": "jfa1PWdV4RC9"
   },
   "source": [
    "##Menyimpan Hasil Tahap Preprocessing ke file .csv"
   ]
  },
  {
   "cell_type": "code",
   "execution_count": null,
   "metadata": {
    "id": "1IO8wy-TV8Dk"
   },
   "outputs": [],
   "source": [
    "\n",
    "Tweets_dfs.to_csv('preproKajuruhan.csv')"
   ]
  },
  {
   "cell_type": "markdown",
   "metadata": {
    "id": "KF8PKplK4pqu"
   },
   "source": [
    "# **TF**\n",
    "\n",
    "TF(Term Frequency) : Istilah frekuensi kata dalam dokumen. Ada beberapa cara untuk menghitung frekuensi ini, dengan cara yang paling sederhana adalah dengan menghitung jumlah kata yang muncul dalam dokumen. Lalu, ada cara untuk menyesuaikan frekuensi, berdasarkan panjang dokumen, atau dengan frekuensi mentah kata yang paling sering muncul dalam dokumen."
   ]
  },
  {
   "cell_type": "code",
   "execution_count": null,
   "metadata": {
    "id": "0Qda3OpcSCq2"
   },
   "outputs": [],
   "source": [
    "\n",
    "from sklearn.feature_extraction.text import TfidfTransformer, TfidfVectorizer, CountVectorizer\n",
    "#Membuat Dataframe\n",
    "dataTextPre = pd.read_csv('preproKajuruhan.csv')\n",
    "vectorizer = CountVectorizer(min_df=1)\n",
    "bag = vectorizer.fit_transform(dataTextPre[\"tweet\"])\n"
   ]
  },
  {
   "cell_type": "code",
   "execution_count": null,
   "metadata": {
    "id": "L6hjdegpSYqN"
   },
   "outputs": [],
   "source": [
    "matrik_vsm=bag.toarray()\n",
    "#print(matrik_vsm)\n",
    "matrik_vsm.shape"
   ]
  },
  {
   "cell_type": "code",
   "execution_count": null,
   "metadata": {
    "id": "D4iujuMwS0It"
   },
   "outputs": [],
   "source": [
    "matrik_vsm[0]"
   ]
  },
  {
   "cell_type": "code",
   "execution_count": null,
   "metadata": {
    "id": "M6GcpBXy8cYI"
   },
   "outputs": [],
   "source": [
    "a=vectorizer.get_feature_names()"
   ]
  },
  {
   "cell_type": "code",
   "execution_count": null,
   "metadata": {
    "id": "_RL5lPUR8d6G"
   },
   "outputs": [],
   "source": [
    "print(len(matrik_vsm[:,1]))\n",
    "#dfb =pd.DataFrame(data=matrik_vsm,index=df,columns=[a])\n",
    "dataTF =pd.DataFrame(data=matrik_vsm,index=list(range(1, len(matrik_vsm[:,1])+1, )),columns=[a])\n",
    "dataTF"
   ]
  },
  {
   "cell_type": "markdown",
   "metadata": {
    "id": "qcnhM9L7vAVj"
   },
   "source": [
    " # 2. Peringkasan Berita "
   ]
  },
  {
   "cell_type": "markdown",
   "metadata": {
    "id": "oY6Vxq9qphjh"
   },
   "source": [
    "# KMeans"
   ]
  },
  {
   "cell_type": "markdown",
   "metadata": {
    "id": "ZYmNkyUzplf5"
   },
   "source": [
    "K-Means Clustering adalah suatu metode penganalisaan data atau metode Data Mining yang melakukan proses pemodelan unssupervised learning dan menggunakan metode yang mengelompokan data berbagai partisi.\n",
    "\n",
    "K Means Clustering memiliki objective yaitu meminimalisasi object function yang telah di atur pada proses clasterisasi. Dengan cara minimalisasi variasi antar 1 cluster dengan maksimalisasi variasi dengan data di cluster lainnya."
   ]
  },
  {
   "cell_type": "code",
   "execution_count": null,
   "metadata": {
    "id": "GLWjSWS7wBmj"
   },
   "outputs": [],
   "source": [
    "from sklearn.cluster import KMeans\n",
    "\n",
    "kmeans =KMeans(n_clusters=3)\n",
    "kmeans=kmeans.fit(dataTF)\n",
    "prediksi=kmeans.predict(dataTF)\n",
    "centroids = kmeans.cluster_centers_\n",
    "\n",
    "data=pd.DataFrame(prediksi,columns=[\"Cluster\"])\n",
    "data\n"
   ]
  },
  {
   "cell_type": "markdown",
   "metadata": {
    "id": "naqOATbuAtUg"
   },
   "source": [
    "# **MERINGKAS DOKUMEN**"
   ]
  },
  {
   "cell_type": "code",
   "execution_count": null,
   "metadata": {
    "id": "NHWi3ARNfW1G"
   },
   "outputs": [],
   "source": [
    "%%capture\n",
    "!pip install scrapy\n",
    "!pip install pandas\n",
    "!pip install scikit-learn\n",
    "!pip install --user -U nltk\n",
    "\n",
    "!pip install scipy\n",
    "!pip install networkx\n"
   ]
  },
  {
   "cell_type": "code",
   "execution_count": null,
   "metadata": {
    "id": "DEb2NIL8gA8S"
   },
   "outputs": [],
   "source": [
    "!rm -rf kompas_scrape.py hasil.json && sleep 1"
   ]
  },
  {
   "cell_type": "code",
   "execution_count": null,
   "metadata": {
    "id": "n5Pishe2gsTq"
   },
   "outputs": [],
   "source": [
    "%%writefile -a kompas_scrape.py\n",
    "import string\n",
    "import scrapy\n",
    "from scrapy import Request\n",
    "\n",
    "#@markdown ---\n",
    "#@markdown ### Masukkan url artikel kompas.com :\n",
    "artikel_url = \"https://tekno.kompas.com/read/2022/10/10/14000087/kisah-aa-korban-pig-butchering-asal-indonesia-yang-rugi-rp-500-an-juta\" #@param {type:\"string\"}\n",
    "artikel_url = artikel_url+\"?page=all\"\n",
    "#@markdown ---\n",
    "\n",
    "class ptaUTM(scrapy.Spider):\n",
    "    name = \"Kompas\"\n",
    "    start_urls = [\n",
    "      artikel_url\n",
    "      ]\n",
    "\n",
    "\n",
    "    def parse(self, response):\n",
    "        a = \"\"\n",
    "        for paragraf in response.xpath('//div[contains(@class,\"clearfix\")]/p/text()').getall():\n",
    "          a = a+\" \"+str(paragraf)\n",
    "        item = {\n",
    "            'judul' : response.xpath('//h1[contains(@class,\"read__title\")]/text()').get(),\n",
    "            'konten' : a\n",
    "        }\n",
    "\n",
    "        yield item"
   ]
  },
  {
   "cell_type": "markdown",
   "metadata": {
    "id": "4pzmzpPmg-TI"
   },
   "source": [
    "## **Menjalankan Script Scrapy**\n",
    "Setelah sebelumnya kita menulis script konfigurasi scrapy, selanjutnya kita akan menjalankan script tersebut dengan perintah \"scrapy runspider\" yang diikuti dengan nama berkas script dan dan nama berkas output untuk menyimpan hasilnya."
   ]
  },
  {
   "cell_type": "code",
   "execution_count": null,
   "metadata": {
    "id": "f641ahuOhMtu"
   },
   "outputs": [],
   "source": [
    "%%capture\n",
    "!scrapy runspider kompas_scrape.py -O hasil.json && sleep 2"
   ]
  },
  {
   "cell_type": "markdown",
   "metadata": {
    "id": "3gKfYyVEhNjz"
   },
   "source": [
    "## **Import Hasil**\n",
    "Setelah perintah sebelumnya berhasil dijalankan, selanjutnya kita akan melakukan import isi berkas hasil scrape sebelumnya kedalam Pandas DataFrame."
   ]
  },
  {
   "cell_type": "code",
   "execution_count": null,
   "metadata": {
    "id": "dwhESqUwhVXY"
   },
   "outputs": [],
   "source": [
    "import pandas as pd\n",
    "pd.options.mode.chained_assignment = None\n",
    "pd.options.display.max_colwidth = None\n",
    "pd.options.display.max_columns = None\n",
    "pd.options.display.max_rows = None\n",
    "df_scrape = pd.read_json('hasil.json')\n",
    "df_scrape"
   ]
  },
  {
   "cell_type": "code",
   "execution_count": null,
   "metadata": {
    "id": "zPKz8sjv0Jx6"
   },
   "outputs": [],
   "source": [
    "import nltk\n",
    "nltk.download('punkt')\n",
    "from nltk.tokenize import sent_tokenize\n",
    "\n",
    "df_pisahkalimat = df_scrape.copy()\n",
    "df_pisahkalimat [\"konten\"][0] = sent_tokenize(df_pisahkalimat[\"konten\"][0])\n",
    "\n",
    "df_pisahkalimat = pd.DataFrame(df_pisahkalimat[\"konten\"][0], columns=[\"kalimat\"])\n",
    "df_pisahkalimat"
   ]
  },
  {
   "cell_type": "code",
   "execution_count": null,
   "metadata": {
    "id": "Cy2U_2Wba0qZ"
   },
   "outputs": [],
   "source": [
    "import nltk\n",
    "nltk.download('punkt')\n",
    "from nltk.tokenize import sent_tokenize\n",
    "\n",
    "df_pisahkalimat = df_scrape.copy()\n",
    "df_pisahkalimat [\"konten\"][0] = sent_tokenize(df_pisahkalimat[\"konten\"][0])\n",
    "\n",
    "df_pisahkalimat = pd.DataFrame(df_pisahkalimat[\"konten\"][0], columns=[\"kalimat\"])\n",
    "df_pisahkalimat"
   ]
  },
  {
   "cell_type": "markdown",
   "metadata": {
    "id": "ye-cfsnimR_W"
   },
   "source": [
    "### Case Folding\n",
    "Case folding merupakan tahap text preprocessing yang berguna untuk :\n",
    "\n",
    "\n",
    "*   Mengubah huruf kapital menjadi huruf kecil\n",
    "*   Mengapus tanda baca\n",
    "*   Menghapus angka\n",
    "*   Menghapus karakter kosong\n",
    "\n",
    "\n"
   ]
  },
  {
   "cell_type": "code",
   "execution_count": null,
   "metadata": {
    "id": "ZO4BRLNdmdHZ"
   },
   "outputs": [],
   "source": [
    "import string\n",
    "df_casefolding = df_pisahkalimat.copy()\n",
    "#mengubah menjadi huruf kecil\n",
    "df_casefolding['kalimat'] = df_casefolding['kalimat'].str.lower()\n",
    "\n",
    "#menghapus tanda baca\n",
    "tanda_baca = string.punctuation\n",
    "tanda_baca = tanda_baca+\"–\"\n",
    "for char in tanda_baca:\n",
    "    df_casefolding['kalimat'] = df_casefolding['kalimat'].replace(r'[\\%s]'%char,\" \", regex=True)\n",
    "\n",
    "#menghapus angka\n",
    "df_casefolding['kalimat'] = df_casefolding['kalimat'].replace(r'\\d+',' ', regex=True)\n",
    "\n",
    "#menghapus karakter kosong\n",
    "df_casefolding['kalimat'] = df_casefolding['kalimat'].replace(r'\\s+',' ', regex=True)\n",
    "df_casefolding.head(2)"
   ]
  },
  {
   "cell_type": "markdown",
   "metadata": {
    "id": "YE5XYf71f0wP"
   },
   "source": [
    "### Vectorization\n",
    "\n",
    "Dalam Machine Learning, vektorisasi adalah langkah dalam ekstraksi fitur. Idenya adalah untuk mendapatkan beberapa fitur berbeda dari teks untuk model untuk dilatih, dengan mengubah teks menjadi vektor numerik.\n",
    "\n"
   ]
  },
  {
   "cell_type": "code",
   "execution_count": null,
   "metadata": {
    "id": "phzVUaSQgqY3"
   },
   "outputs": [],
   "source": [
    "from sklearn.feature_extraction.text import CountVectorizer\n",
    "cv = CountVectorizer()\n",
    "cv_matrix = cv.fit_transform(df_casefolding['kalimat'])"
   ]
  },
  {
   "cell_type": "code",
   "execution_count": null,
   "metadata": {
    "id": "g5GxIdpGguhx"
   },
   "outputs": [],
   "source": [
    "print (\"Banyaknya kosa kata = \", len((cv.get_feature_names_out())))"
   ]
  },
  {
   "cell_type": "code",
   "execution_count": null,
   "metadata": {
    "id": "eC_W4HAfl19e"
   },
   "outputs": [],
   "source": [
    "print (\"kosa kata = \", (cv.get_feature_names_out()))"
   ]
  },
  {
   "cell_type": "code",
   "execution_count": null,
   "metadata": {
    "id": "s03SfBAuobAq"
   },
   "outputs": [],
   "source": [
    "from sklearn.feature_extraction.text import TfidfTransformer\n",
    "normal_matrix = TfidfTransformer().fit_transform(cv_matrix)\n",
    "print(normal_matrix.toarray())\n",
    "print(normal_matrix.T.toarray)"
   ]
  },
  {
   "cell_type": "markdown",
   "metadata": {
    "id": "mMRzNWal3Ftn"
   },
   "source": [
    "### Cosine Similarity\n",
    "\n",
    "\n",
    "\n",
    "\n"
   ]
  },
  {
   "cell_type": "code",
   "execution_count": null,
   "metadata": {
    "id": "mG82JAOs17KY"
   },
   "outputs": [],
   "source": [
    "import numpy as np\n",
    "vektorkalimat=normal_matrix.toarray()\n",
    "A=vektorkalimat[0]\n",
    "B=vektorkalimat[1]\n",
    "dot = np.dot(A, B)\n",
    "norma = np.linalg.norm(A)\n",
    "normb = np.linalg.norm(A)\n",
    "cos = dot / (norma * normb)\n",
    "cos"
   ]
  },
  {
   "cell_type": "markdown",
   "metadata": {
    "id": "hlNoa7avGLeX"
   },
   "source": [
    "## Membangun Graph\n",
    "\n",
    "Graph merupakan sekumpulan objek terstruktur di mana beberapa pasangan objek mempunyai hubungan ataupun keterkaitan tertentu. Graph disini digunakan untuk melihat seberapa banyak hubungan antara kalimat satu dengan lainnya."
   ]
  },
  {
   "cell_type": "code",
   "execution_count": null,
   "metadata": {
    "id": "AYjAPnjzokNZ"
   },
   "outputs": [],
   "source": [
    "res_graph = normal_matrix * normal_matrix.T\n",
    "print(res_graph)"
   ]
  },
  {
   "cell_type": "code",
   "execution_count": null,
   "metadata": {
    "id": "THUvdTz6onkM"
   },
   "outputs": [],
   "source": [
    "import networkx as nx\n",
    "nx_graph = nx.from_scipy_sparse_matrix(res_graph)"
   ]
  },
  {
   "cell_type": "code",
   "execution_count": null,
   "metadata": {
    "id": "3amm-vBFoqL1"
   },
   "outputs": [],
   "source": [
    "nx.draw_circular(nx_graph)"
   ]
  },
  {
   "cell_type": "markdown",
   "metadata": {
    "id": "NiChzOLBHxIh"
   },
   "source": [
    "## Pagerank\n",
    "\n",
    "PageRank adalah algoritma analisis tautan dan memberikan bobot numerik untuk setiap elemen dari kumpulan dokumen yang ditautkan. \n",
    "\n",
    "Perhitungan PageRank memerlukan beberapa lintasan, yang disebut \"iterasi\", melalui koleksi untuk menyesuaikan perkiraan nilai PageRank agar lebih mencerminkan nilai teoretis yang sebenarnya."
   ]
  },
  {
   "cell_type": "code",
   "execution_count": null,
   "metadata": {
    "id": "dChLs6eturE6"
   },
   "outputs": [],
   "source": [
    "# scores = nx.pagerank(nx_graph, alpha=0.88, max_iter=1000, )\n",
    "# scores"
   ]
  },
  {
   "cell_type": "code",
   "execution_count": null,
   "metadata": {
    "id": "DflMo6X8vAMa"
   },
   "outputs": [],
   "source": [
    "#@title Persentase Ringkasan\n",
    "#@markdown ---\n",
    "#@markdown ### Tentukan persentase ringkasan : total kalimat:\n",
    "persentase_ringkasan = 60 #@param {type:\"slider\", min:50, max:90, step:10}\n",
    "#@markdown ---\n"
   ]
  },
  {
   "cell_type": "markdown",
   "metadata": {
    "id": "dHJrypeDM0iy"
   },
   "source": [
    "Mencocokkan indeks kalimat asli dan kalimat hasil preprocessing"
   ]
  },
  {
   "cell_type": "code",
   "execution_count": null,
   "metadata": {
    "id": "e6FQhAbovKDY"
   },
   "outputs": [],
   "source": [
    "# top_sentence={sentence:scores[index] for index,sentence in enumerate(df_pisahkalimat[\"kalimat\"].values)}\n",
    "\n",
    "# persentase = len(df_pisahkalimat[\"kalimat\"])*persentase_ringkasan//100\n",
    "# print(\"Jumlah Kalimat pada Ringkasan : \",persentase)\n",
    "# top=dict(sorted(top_sentence.items(), key=lambda x: x[1], reverse=True)[:persentase])"
   ]
  },
  {
   "cell_type": "markdown",
   "metadata": {
    "id": "MYZiXKvnLOSM"
   },
   "source": [
    "### Hasil dan perbandingan"
   ]
  },
  {
   "cell_type": "code",
   "execution_count": null,
   "metadata": {
    "id": "KsTQQOlxvT5a"
   },
   "outputs": [],
   "source": [
    "# ringkasan = \"\"\n",
    "# for sent in df_pisahkalimat[\"kalimat\"].values:\n",
    "#     if sent in top.keys():\n",
    "#         ringkasan = ringkasan+\" \"+sent\n",
    "\n",
    "# #ringkasan\n",
    "# perbandingan = {'Teks asli' : df_scrape[\"konten\"], 'Hasil Ringkasan' : [ringkasan]}\n",
    "# df_perbandingan = pd.DataFrame(perbandingan)\n",
    "# df_perbandingan"
   ]
  }
 ],
 "metadata": {
  "colab": {
   "collapsed_sections": [
    "GidSZu_2ymdP",
    "4aaueWDLzwNm",
    "pY-4fnONz2Es",
    "zQQ9-N1_0Bvz",
    "kNKKQN460Vz0",
    "jfa1PWdV4RC9",
    "4pzmzpPmg-TI",
    "3gKfYyVEhNjz",
    "ye-cfsnimR_W",
    "YE5XYf71f0wP",
    "mMRzNWal3Ftn",
    "hlNoa7avGLeX",
    "MYZiXKvnLOSM"
   ],
   "provenance": [
    {
     "file_id": "149wiumFfOSxk0q3-YduUJrORyhsA0VPB",
     "timestamp": 1665534195122
    }
   ]
  },
  "kernelspec": {
   "display_name": "Python 3",
   "language": "python",
   "name": "python3"
  },
  "language_info": {
   "codemirror_mode": {
    "name": "ipython",
    "version": 3
   },
   "file_extension": ".py",
   "mimetype": "text/x-python",
   "name": "python",
   "nbconvert_exporter": "python",
   "pygments_lexer": "ipython3",
   "version": "3.8.16"
  }
 },
 "nbformat": 4,
 "nbformat_minor": 0
}